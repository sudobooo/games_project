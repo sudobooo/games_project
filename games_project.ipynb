{
 "cells": [
  {
   "cell_type": "markdown",
   "source": [
    "# Иследование продаж видео игр"
   ],
   "metadata": {
    "collapsed": false
   }
  },
  {
   "cell_type": "markdown",
   "source": [
    "В моём распоряжении данные о продажах игр, оценки пользователей и экспертов, жанры и платформы. Необходимо выявить определяющие успешность игры закономерности. Это позволит сделать ставку на потенциально популярный продукт и спланировать рекламные кампании.\n",
    "\n",
    "У меня есть данные до 2016 года. Представим, что сейчас декабрь 2016 г., и я планирую кампанию на 2017-й. Данные за 2016 год могут быть неполными.\n",
    "\n",
    "Цель исследования:\n",
    "- изучить информацию о продажах игр.\n",
    "- выявить определяющие успешность игры закономерности.\n",
    "- проверить гипотезы, которые помогут понять, какие игры стоит продвигать в 2017 году.\n",
    "- сделать ставку на потенциально популярный продукт, чтобы спланировать рекламные кампании.\n",
    "\n",
    "Ход исследования:\n",
    "\n",
    "Необходимые данные получу из датасета games.csv. О состоянии и качестве данных ничего не известно, поэтому я сначала открою файл и изучу общую информацию.\n",
    "\n",
    "Предобработаю данные:\n",
    "- Если будут проблемы с наименованием столбцов, то переименую их, чтобы привести к удобным и читаемым названиям.\n",
    "- Проверю на явные дубликаты и если такие имеются, то удалю.\n",
    "- Проверю на наличие пропусков и обработаю их.\n",
    "- Если будет необходимость, то исправлю типы данных\n",
    "- Обработаю неявные дубликаты.\n",
    "- Для удобного анализа в дальнейшем - добавлю необходимые столбцы.\n",
    "\n",
    "Перейду к исследовательскому анализу данных, где опишу и визуализирую информацию о продажах игр:\n",
    "- Посмотрю, сколько игр выпускалось в разные годы.\n",
    "- Посмотрю, как менялись продажи по платформам.\n",
    "- Возьму данные за соответствующий актуальный период.\n",
    "- Изучу какие платформы лидируют по продажам, растут или падают.\n",
    "- Построю график \"ящик с усами\" по глобальным продажам игр в разбивке по платформам.\n",
    "- Посмотрю, как влияют на продажи внутри одной популярной платформы отзывы пользователей и критиков.\n",
    "- Соотнесу выводы с продажами игр на других платформах.\n",
    "- Посмотрю на общее распределение игр по жанрам.\n",
    "\n",
    "Составлю портрет пользователя каждого региона:\n",
    "- Определю для пользователя каждого региона (NA, EU, JP):\n",
    "    - Самые популярные платформы (топ-5).\n",
    "    - Самые популярные жанры (топ-5).\n",
    "    - Влияет ли рейтинг ESRB на продажи в отдельном регионе?\n",
    "\n",
    "После этого проверю гипотезы:\n",
    "- Средние пользовательские рейтинги платформ Xbox One и PC одинаковые.\n",
    "- Средние пользовательские рейтинги жанров Action и Sports разные.\n",
    "\n",
    "В завершении сделаю общий вывод по исследованию."
   ],
   "metadata": {
    "collapsed": false
   }
  },
  {
   "cell_type": "markdown",
   "source": [
    "## Открою файл с данными и изучу общую информацию"
   ],
   "metadata": {
    "collapsed": false
   }
  },
  {
   "cell_type": "code",
   "outputs": [],
   "source": [
    "import pandas as pd\n",
    "import numpy as np\n",
    "import matplotlib.pyplot as plt\n",
    "from scipy import stats as st"
   ],
   "metadata": {
    "collapsed": false,
    "ExecuteTime": {
     "end_time": "2024-02-22T21:18:29.448919Z",
     "start_time": "2024-02-22T21:18:28.770082Z"
    }
   },
   "execution_count": 1
  },
  {
   "cell_type": "code",
   "outputs": [],
   "source": [
    "data = pd.read_csv('./datasets/games.csv')"
   ],
   "metadata": {
    "collapsed": false,
    "ExecuteTime": {
     "end_time": "2024-02-22T21:18:29.471258Z",
     "start_time": "2024-02-22T21:18:29.450007Z"
    }
   },
   "execution_count": 2
  },
  {
   "cell_type": "markdown",
   "source": [
    "Посмотрю на первые 5 строк датафрейма и посмотрю общую информацию о данных."
   ],
   "metadata": {
    "collapsed": false
   }
  },
  {
   "cell_type": "code",
   "outputs": [
    {
     "data": {
      "text/plain": "                       Name Platform  Year_of_Release         Genre  NA_sales  \\\n0                Wii Sports      Wii           2006.0        Sports     41.36   \n1         Super Mario Bros.      NES           1985.0      Platform     29.08   \n2            Mario Kart Wii      Wii           2008.0        Racing     15.68   \n3         Wii Sports Resort      Wii           2009.0        Sports     15.61   \n4  Pokemon Red/Pokemon Blue       GB           1996.0  Role-Playing     11.27   \n\n   EU_sales  JP_sales  Other_sales  Critic_Score User_Score Rating  \n0     28.96      3.77         8.45          76.0          8      E  \n1      3.58      6.81         0.77           NaN        NaN    NaN  \n2     12.76      3.79         3.29          82.0        8.3      E  \n3     10.93      3.28         2.95          80.0          8      E  \n4      8.89     10.22         1.00           NaN        NaN    NaN  ",
      "text/html": "<div>\n<style scoped>\n    .dataframe tbody tr th:only-of-type {\n        vertical-align: middle;\n    }\n\n    .dataframe tbody tr th {\n        vertical-align: top;\n    }\n\n    .dataframe thead th {\n        text-align: right;\n    }\n</style>\n<table border=\"1\" class=\"dataframe\">\n  <thead>\n    <tr style=\"text-align: right;\">\n      <th></th>\n      <th>Name</th>\n      <th>Platform</th>\n      <th>Year_of_Release</th>\n      <th>Genre</th>\n      <th>NA_sales</th>\n      <th>EU_sales</th>\n      <th>JP_sales</th>\n      <th>Other_sales</th>\n      <th>Critic_Score</th>\n      <th>User_Score</th>\n      <th>Rating</th>\n    </tr>\n  </thead>\n  <tbody>\n    <tr>\n      <th>0</th>\n      <td>Wii Sports</td>\n      <td>Wii</td>\n      <td>2006.0</td>\n      <td>Sports</td>\n      <td>41.36</td>\n      <td>28.96</td>\n      <td>3.77</td>\n      <td>8.45</td>\n      <td>76.0</td>\n      <td>8</td>\n      <td>E</td>\n    </tr>\n    <tr>\n      <th>1</th>\n      <td>Super Mario Bros.</td>\n      <td>NES</td>\n      <td>1985.0</td>\n      <td>Platform</td>\n      <td>29.08</td>\n      <td>3.58</td>\n      <td>6.81</td>\n      <td>0.77</td>\n      <td>NaN</td>\n      <td>NaN</td>\n      <td>NaN</td>\n    </tr>\n    <tr>\n      <th>2</th>\n      <td>Mario Kart Wii</td>\n      <td>Wii</td>\n      <td>2008.0</td>\n      <td>Racing</td>\n      <td>15.68</td>\n      <td>12.76</td>\n      <td>3.79</td>\n      <td>3.29</td>\n      <td>82.0</td>\n      <td>8.3</td>\n      <td>E</td>\n    </tr>\n    <tr>\n      <th>3</th>\n      <td>Wii Sports Resort</td>\n      <td>Wii</td>\n      <td>2009.0</td>\n      <td>Sports</td>\n      <td>15.61</td>\n      <td>10.93</td>\n      <td>3.28</td>\n      <td>2.95</td>\n      <td>80.0</td>\n      <td>8</td>\n      <td>E</td>\n    </tr>\n    <tr>\n      <th>4</th>\n      <td>Pokemon Red/Pokemon Blue</td>\n      <td>GB</td>\n      <td>1996.0</td>\n      <td>Role-Playing</td>\n      <td>11.27</td>\n      <td>8.89</td>\n      <td>10.22</td>\n      <td>1.00</td>\n      <td>NaN</td>\n      <td>NaN</td>\n      <td>NaN</td>\n    </tr>\n  </tbody>\n</table>\n</div>"
     },
     "execution_count": 3,
     "metadata": {},
     "output_type": "execute_result"
    }
   ],
   "source": [
    "data.head()"
   ],
   "metadata": {
    "collapsed": false,
    "ExecuteTime": {
     "end_time": "2024-02-22T21:18:29.482920Z",
     "start_time": "2024-02-22T21:18:29.471972Z"
    }
   },
   "execution_count": 3
  },
  {
   "cell_type": "code",
   "outputs": [
    {
     "name": "stdout",
     "output_type": "stream",
     "text": [
      "<class 'pandas.core.frame.DataFrame'>\n",
      "RangeIndex: 16715 entries, 0 to 16714\n",
      "Data columns (total 11 columns):\n",
      " #   Column           Non-Null Count  Dtype  \n",
      "---  ------           --------------  -----  \n",
      " 0   Name             16713 non-null  object \n",
      " 1   Platform         16715 non-null  object \n",
      " 2   Year_of_Release  16446 non-null  float64\n",
      " 3   Genre            16713 non-null  object \n",
      " 4   NA_sales         16715 non-null  float64\n",
      " 5   EU_sales         16715 non-null  float64\n",
      " 6   JP_sales         16715 non-null  float64\n",
      " 7   Other_sales      16715 non-null  float64\n",
      " 8   Critic_Score     8137 non-null   float64\n",
      " 9   User_Score       10014 non-null  object \n",
      " 10  Rating           9949 non-null   object \n",
      "dtypes: float64(6), object(5)\n",
      "memory usage: 1.4+ MB\n"
     ]
    }
   ],
   "source": [
    "data.info()"
   ],
   "metadata": {
    "collapsed": false,
    "ExecuteTime": {
     "end_time": "2024-02-22T21:18:29.493087Z",
     "start_time": "2024-02-22T21:18:29.483957Z"
    }
   },
   "execution_count": 4
  },
  {
   "cell_type": "markdown",
   "source": [
    "Я смог прочесть датасет, каких-то проблем при этом не возникло.\n",
    "\n",
    "В датасете 11 столбцов и 16715 строк. В некоторых столбцах есть пропуски и неподходящие типы данных. Названия столбцов необходимо привести к нижнему регистру."
   ],
   "metadata": {
    "collapsed": false
   }
  },
  {
   "cell_type": "markdown",
   "source": [
    "## Предобработка данных"
   ],
   "metadata": {
    "collapsed": false
   }
  },
  {
   "cell_type": "markdown",
   "source": [
    "### Переименование столбцов"
   ],
   "metadata": {
    "collapsed": false
   }
  },
  {
   "cell_type": "markdown",
   "source": [
    "Приведём названия столбцов к стандарту snake_case - в нашем случае это только нижний регистр, так как андерскоры уже есть в названиях столбцов."
   ],
   "metadata": {
    "collapsed": false
   }
  },
  {
   "cell_type": "code",
   "outputs": [],
   "source": [
    "data.columns = data.columns.str.lower()"
   ],
   "metadata": {
    "collapsed": false,
    "ExecuteTime": {
     "end_time": "2024-02-22T21:18:29.495798Z",
     "start_time": "2024-02-22T21:18:29.493834Z"
    }
   },
   "execution_count": 5
  },
  {
   "cell_type": "markdown",
   "source": [
    "Проверю, что названия столбцов изменились."
   ],
   "metadata": {
    "collapsed": false
   }
  },
  {
   "cell_type": "code",
   "outputs": [
    {
     "name": "stdout",
     "output_type": "stream",
     "text": [
      "<class 'pandas.core.frame.DataFrame'>\n",
      "RangeIndex: 16715 entries, 0 to 16714\n",
      "Data columns (total 11 columns):\n",
      " #   Column           Non-Null Count  Dtype  \n",
      "---  ------           --------------  -----  \n",
      " 0   name             16713 non-null  object \n",
      " 1   platform         16715 non-null  object \n",
      " 2   year_of_release  16446 non-null  float64\n",
      " 3   genre            16713 non-null  object \n",
      " 4   na_sales         16715 non-null  float64\n",
      " 5   eu_sales         16715 non-null  float64\n",
      " 6   jp_sales         16715 non-null  float64\n",
      " 7   other_sales      16715 non-null  float64\n",
      " 8   critic_score     8137 non-null   float64\n",
      " 9   user_score       10014 non-null  object \n",
      " 10  rating           9949 non-null   object \n",
      "dtypes: float64(6), object(5)\n",
      "memory usage: 1.4+ MB\n"
     ]
    }
   ],
   "source": [
    "data.info()"
   ],
   "metadata": {
    "collapsed": false,
    "ExecuteTime": {
     "end_time": "2024-02-22T21:18:29.505382Z",
     "start_time": "2024-02-22T21:18:29.496485Z"
    }
   },
   "execution_count": 6
  },
  {
   "cell_type": "markdown",
   "source": [
    "### Обработка пропусков"
   ],
   "metadata": {
    "collapsed": false
   }
  },
  {
   "cell_type": "markdown",
   "source": [
    "Проверю на наличие явных дубликатов."
   ],
   "metadata": {
    "collapsed": false
   }
  },
  {
   "cell_type": "code",
   "outputs": [
    {
     "data": {
      "text/plain": "0"
     },
     "execution_count": 7,
     "metadata": {},
     "output_type": "execute_result"
    }
   ],
   "source": [
    "data.duplicated().sum()"
   ],
   "metadata": {
    "collapsed": false,
    "ExecuteTime": {
     "end_time": "2024-02-22T21:18:29.515057Z",
     "start_time": "2024-02-22T21:18:29.506011Z"
    }
   },
   "execution_count": 7
  },
  {
   "cell_type": "markdown",
   "source": [
    "Определю, сколько пропусков в каждом столбце."
   ],
   "metadata": {
    "collapsed": false
   }
  },
  {
   "cell_type": "code",
   "outputs": [],
   "source": [
    "# Создам функцию для определения пропусков, чтобы не писать одно и то же несколько раз\n",
    "def missing_values(data_with_na):\n",
    "    return pd.DataFrame(data_with_na.isna().mean() * 100).style.format(\"{:.2f}%\").background_gradient('coolwarm')"
   ],
   "metadata": {
    "collapsed": false,
    "ExecuteTime": {
     "end_time": "2024-02-22T21:18:29.518526Z",
     "start_time": "2024-02-22T21:18:29.516102Z"
    }
   },
   "execution_count": 8
  },
  {
   "cell_type": "code",
   "outputs": [
    {
     "data": {
      "text/plain": "<pandas.io.formats.style.Styler at 0x7fa0763f3a10>",
      "text/html": "<style type=\"text/css\">\n#T_1ed3e_row0_col0, #T_1ed3e_row1_col0, #T_1ed3e_row3_col0, #T_1ed3e_row4_col0, #T_1ed3e_row5_col0, #T_1ed3e_row6_col0, #T_1ed3e_row7_col0 {\n  background-color: #3b4cc0;\n  color: #f1f1f1;\n}\n#T_1ed3e_row2_col0 {\n  background-color: #445acc;\n  color: #f1f1f1;\n}\n#T_1ed3e_row8_col0 {\n  background-color: #b40426;\n  color: #f1f1f1;\n}\n#T_1ed3e_row9_col0 {\n  background-color: #f18d6f;\n  color: #f1f1f1;\n}\n#T_1ed3e_row10_col0 {\n  background-color: #f08a6c;\n  color: #f1f1f1;\n}\n</style>\n<table id=\"T_1ed3e\">\n  <thead>\n    <tr>\n      <th class=\"blank level0\" >&nbsp;</th>\n      <th id=\"T_1ed3e_level0_col0\" class=\"col_heading level0 col0\" >0</th>\n    </tr>\n  </thead>\n  <tbody>\n    <tr>\n      <th id=\"T_1ed3e_level0_row0\" class=\"row_heading level0 row0\" >name</th>\n      <td id=\"T_1ed3e_row0_col0\" class=\"data row0 col0\" >0.01%</td>\n    </tr>\n    <tr>\n      <th id=\"T_1ed3e_level0_row1\" class=\"row_heading level0 row1\" >platform</th>\n      <td id=\"T_1ed3e_row1_col0\" class=\"data row1 col0\" >0.00%</td>\n    </tr>\n    <tr>\n      <th id=\"T_1ed3e_level0_row2\" class=\"row_heading level0 row2\" >year_of_release</th>\n      <td id=\"T_1ed3e_row2_col0\" class=\"data row2 col0\" >1.61%</td>\n    </tr>\n    <tr>\n      <th id=\"T_1ed3e_level0_row3\" class=\"row_heading level0 row3\" >genre</th>\n      <td id=\"T_1ed3e_row3_col0\" class=\"data row3 col0\" >0.01%</td>\n    </tr>\n    <tr>\n      <th id=\"T_1ed3e_level0_row4\" class=\"row_heading level0 row4\" >na_sales</th>\n      <td id=\"T_1ed3e_row4_col0\" class=\"data row4 col0\" >0.00%</td>\n    </tr>\n    <tr>\n      <th id=\"T_1ed3e_level0_row5\" class=\"row_heading level0 row5\" >eu_sales</th>\n      <td id=\"T_1ed3e_row5_col0\" class=\"data row5 col0\" >0.00%</td>\n    </tr>\n    <tr>\n      <th id=\"T_1ed3e_level0_row6\" class=\"row_heading level0 row6\" >jp_sales</th>\n      <td id=\"T_1ed3e_row6_col0\" class=\"data row6 col0\" >0.00%</td>\n    </tr>\n    <tr>\n      <th id=\"T_1ed3e_level0_row7\" class=\"row_heading level0 row7\" >other_sales</th>\n      <td id=\"T_1ed3e_row7_col0\" class=\"data row7 col0\" >0.00%</td>\n    </tr>\n    <tr>\n      <th id=\"T_1ed3e_level0_row8\" class=\"row_heading level0 row8\" >critic_score</th>\n      <td id=\"T_1ed3e_row8_col0\" class=\"data row8 col0\" >51.32%</td>\n    </tr>\n    <tr>\n      <th id=\"T_1ed3e_level0_row9\" class=\"row_heading level0 row9\" >user_score</th>\n      <td id=\"T_1ed3e_row9_col0\" class=\"data row9 col0\" >40.09%</td>\n    </tr>\n    <tr>\n      <th id=\"T_1ed3e_level0_row10\" class=\"row_heading level0 row10\" >rating</th>\n      <td id=\"T_1ed3e_row10_col0\" class=\"data row10 col0\" >40.48%</td>\n    </tr>\n  </tbody>\n</table>\n"
     },
     "execution_count": 9,
     "metadata": {},
     "output_type": "execute_result"
    }
   ],
   "source": [
    "missing_values(data)"
   ],
   "metadata": {
    "collapsed": false,
    "ExecuteTime": {
     "end_time": "2024-02-22T21:18:29.562166Z",
     "start_time": "2024-02-22T21:18:29.519249Z"
    }
   },
   "execution_count": 9
  },
  {
   "cell_type": "markdown",
   "source": [
    "В столбцах name, year_of_release и genre есть небольшое количество пропусков - 0.01%, 1.61% и 0.01% соответственно.\n",
    "В целом, их можно удалить ничего сильно от этого не изменится.\n",
    "В critic_score, user_score, rating пропусков уже больше - 51.32%, 40.09% и 40.48% соответственно.\n",
    "Удалять их уже нельзя, так как это большая часть данных. Нужно будет посмотреть на данные детально, чтобы понять, что с ними можно сделать."
   ],
   "metadata": {
    "collapsed": false
   }
  },
  {
   "cell_type": "markdown",
   "source": [
    "Удалю пропуски в столбцах name, year_of_release и genre."
   ],
   "metadata": {
    "collapsed": false
   }
  },
  {
   "cell_type": "code",
   "outputs": [],
   "source": [
    "data = data.dropna(subset=['name', 'year_of_release', 'genre'])"
   ],
   "metadata": {
    "collapsed": false,
    "ExecuteTime": {
     "end_time": "2024-02-22T21:18:29.568367Z",
     "start_time": "2024-02-22T21:18:29.563954Z"
    }
   },
   "execution_count": 10
  },
  {
   "cell_type": "markdown",
   "source": [
    "Проверю, что пропуски удалились."
   ],
   "metadata": {
    "collapsed": false
   }
  },
  {
   "cell_type": "code",
   "outputs": [
    {
     "data": {
      "text/plain": "<pandas.io.formats.style.Styler at 0x7fa078fdad50>",
      "text/html": "<style type=\"text/css\">\n#T_30bdf_row0_col0, #T_30bdf_row1_col0, #T_30bdf_row2_col0, #T_30bdf_row3_col0, #T_30bdf_row4_col0, #T_30bdf_row5_col0, #T_30bdf_row6_col0, #T_30bdf_row7_col0 {\n  background-color: #3b4cc0;\n  color: #f1f1f1;\n}\n#T_30bdf_row8_col0 {\n  background-color: #b40426;\n  color: #f1f1f1;\n}\n#T_30bdf_row9_col0 {\n  background-color: #f18d6f;\n  color: #f1f1f1;\n}\n#T_30bdf_row10_col0 {\n  background-color: #f08a6c;\n  color: #f1f1f1;\n}\n</style>\n<table id=\"T_30bdf\">\n  <thead>\n    <tr>\n      <th class=\"blank level0\" >&nbsp;</th>\n      <th id=\"T_30bdf_level0_col0\" class=\"col_heading level0 col0\" >0</th>\n    </tr>\n  </thead>\n  <tbody>\n    <tr>\n      <th id=\"T_30bdf_level0_row0\" class=\"row_heading level0 row0\" >name</th>\n      <td id=\"T_30bdf_row0_col0\" class=\"data row0 col0\" >0.00%</td>\n    </tr>\n    <tr>\n      <th id=\"T_30bdf_level0_row1\" class=\"row_heading level0 row1\" >platform</th>\n      <td id=\"T_30bdf_row1_col0\" class=\"data row1 col0\" >0.00%</td>\n    </tr>\n    <tr>\n      <th id=\"T_30bdf_level0_row2\" class=\"row_heading level0 row2\" >year_of_release</th>\n      <td id=\"T_30bdf_row2_col0\" class=\"data row2 col0\" >0.00%</td>\n    </tr>\n    <tr>\n      <th id=\"T_30bdf_level0_row3\" class=\"row_heading level0 row3\" >genre</th>\n      <td id=\"T_30bdf_row3_col0\" class=\"data row3 col0\" >0.00%</td>\n    </tr>\n    <tr>\n      <th id=\"T_30bdf_level0_row4\" class=\"row_heading level0 row4\" >na_sales</th>\n      <td id=\"T_30bdf_row4_col0\" class=\"data row4 col0\" >0.00%</td>\n    </tr>\n    <tr>\n      <th id=\"T_30bdf_level0_row5\" class=\"row_heading level0 row5\" >eu_sales</th>\n      <td id=\"T_30bdf_row5_col0\" class=\"data row5 col0\" >0.00%</td>\n    </tr>\n    <tr>\n      <th id=\"T_30bdf_level0_row6\" class=\"row_heading level0 row6\" >jp_sales</th>\n      <td id=\"T_30bdf_row6_col0\" class=\"data row6 col0\" >0.00%</td>\n    </tr>\n    <tr>\n      <th id=\"T_30bdf_level0_row7\" class=\"row_heading level0 row7\" >other_sales</th>\n      <td id=\"T_30bdf_row7_col0\" class=\"data row7 col0\" >0.00%</td>\n    </tr>\n    <tr>\n      <th id=\"T_30bdf_level0_row8\" class=\"row_heading level0 row8\" >critic_score</th>\n      <td id=\"T_30bdf_row8_col0\" class=\"data row8 col0\" >51.45%</td>\n    </tr>\n    <tr>\n      <th id=\"T_30bdf_level0_row9\" class=\"row_heading level0 row9\" >user_score</th>\n      <td id=\"T_30bdf_row9_col0\" class=\"data row9 col0\" >40.17%</td>\n    </tr>\n    <tr>\n      <th id=\"T_30bdf_level0_row10\" class=\"row_heading level0 row10\" >rating</th>\n      <td id=\"T_30bdf_row10_col0\" class=\"data row10 col0\" >40.60%</td>\n    </tr>\n  </tbody>\n</table>\n"
     },
     "execution_count": 11,
     "metadata": {},
     "output_type": "execute_result"
    }
   ],
   "source": [
    "missing_values(data)"
   ],
   "metadata": {
    "collapsed": false,
    "ExecuteTime": {
     "end_time": "2024-02-22T21:18:29.578350Z",
     "start_time": "2024-02-22T21:18:29.569144Z"
    }
   },
   "execution_count": 11
  },
  {
   "cell_type": "markdown",
   "source": [
    "Заполню пропуски в critic_score медианным значением рейтинга критиков по каждой игре."
   ],
   "metadata": {
    "collapsed": false
   }
  },
  {
   "cell_type": "code",
   "outputs": [],
   "source": [
    "data['critic_score'] = data['critic_score'].fillna(data.groupby('name')['critic_score'].transform('median'))"
   ],
   "metadata": {
    "collapsed": false,
    "ExecuteTime": {
     "end_time": "2024-02-22T21:18:29.588611Z",
     "start_time": "2024-02-22T21:18:29.579028Z"
    }
   },
   "execution_count": 12
  },
  {
   "cell_type": "markdown",
   "source": [
    "Проверю, остались ли после этого пропуски в critic_score."
   ],
   "metadata": {
    "collapsed": false
   }
  },
  {
   "cell_type": "code",
   "outputs": [
    {
     "data": {
      "text/plain": "<pandas.io.formats.style.Styler at 0x7fa07642b710>",
      "text/html": "<style type=\"text/css\">\n#T_c8d1a_row0_col0, #T_c8d1a_row1_col0, #T_c8d1a_row2_col0, #T_c8d1a_row3_col0, #T_c8d1a_row4_col0, #T_c8d1a_row5_col0, #T_c8d1a_row6_col0, #T_c8d1a_row7_col0 {\n  background-color: #3b4cc0;\n  color: #f1f1f1;\n}\n#T_c8d1a_row8_col0 {\n  background-color: #b40426;\n  color: #f1f1f1;\n}\n#T_c8d1a_row9_col0 {\n  background-color: #dd5f4b;\n  color: #f1f1f1;\n}\n#T_c8d1a_row10_col0 {\n  background-color: #d95847;\n  color: #f1f1f1;\n}\n</style>\n<table id=\"T_c8d1a\">\n  <thead>\n    <tr>\n      <th class=\"blank level0\" >&nbsp;</th>\n      <th id=\"T_c8d1a_level0_col0\" class=\"col_heading level0 col0\" >0</th>\n    </tr>\n  </thead>\n  <tbody>\n    <tr>\n      <th id=\"T_c8d1a_level0_row0\" class=\"row_heading level0 row0\" >name</th>\n      <td id=\"T_c8d1a_row0_col0\" class=\"data row0 col0\" >0.00%</td>\n    </tr>\n    <tr>\n      <th id=\"T_c8d1a_level0_row1\" class=\"row_heading level0 row1\" >platform</th>\n      <td id=\"T_c8d1a_row1_col0\" class=\"data row1 col0\" >0.00%</td>\n    </tr>\n    <tr>\n      <th id=\"T_c8d1a_level0_row2\" class=\"row_heading level0 row2\" >year_of_release</th>\n      <td id=\"T_c8d1a_row2_col0\" class=\"data row2 col0\" >0.00%</td>\n    </tr>\n    <tr>\n      <th id=\"T_c8d1a_level0_row3\" class=\"row_heading level0 row3\" >genre</th>\n      <td id=\"T_c8d1a_row3_col0\" class=\"data row3 col0\" >0.00%</td>\n    </tr>\n    <tr>\n      <th id=\"T_c8d1a_level0_row4\" class=\"row_heading level0 row4\" >na_sales</th>\n      <td id=\"T_c8d1a_row4_col0\" class=\"data row4 col0\" >0.00%</td>\n    </tr>\n    <tr>\n      <th id=\"T_c8d1a_level0_row5\" class=\"row_heading level0 row5\" >eu_sales</th>\n      <td id=\"T_c8d1a_row5_col0\" class=\"data row5 col0\" >0.00%</td>\n    </tr>\n    <tr>\n      <th id=\"T_c8d1a_level0_row6\" class=\"row_heading level0 row6\" >jp_sales</th>\n      <td id=\"T_c8d1a_row6_col0\" class=\"data row6 col0\" >0.00%</td>\n    </tr>\n    <tr>\n      <th id=\"T_c8d1a_level0_row7\" class=\"row_heading level0 row7\" >other_sales</th>\n      <td id=\"T_c8d1a_row7_col0\" class=\"data row7 col0\" >0.00%</td>\n    </tr>\n    <tr>\n      <th id=\"T_c8d1a_level0_row8\" class=\"row_heading level0 row8\" >critic_score</th>\n      <td id=\"T_c8d1a_row8_col0\" class=\"data row8 col0\" >45.74%</td>\n    </tr>\n    <tr>\n      <th id=\"T_c8d1a_level0_row9\" class=\"row_heading level0 row9\" >user_score</th>\n      <td id=\"T_c8d1a_row9_col0\" class=\"data row9 col0\" >40.17%</td>\n    </tr>\n    <tr>\n      <th id=\"T_c8d1a_level0_row10\" class=\"row_heading level0 row10\" >rating</th>\n      <td id=\"T_c8d1a_row10_col0\" class=\"data row10 col0\" >40.60%</td>\n    </tr>\n  </tbody>\n</table>\n"
     },
     "execution_count": 13,
     "metadata": {},
     "output_type": "execute_result"
    }
   ],
   "source": [
    "missing_values(data)"
   ],
   "metadata": {
    "collapsed": false,
    "ExecuteTime": {
     "end_time": "2024-02-22T21:18:29.599402Z",
     "start_time": "2024-02-22T21:18:29.589371Z"
    }
   },
   "execution_count": 13
  },
  {
   "cell_type": "markdown",
   "source": [
    "Доля пропусков уменьшилась на \\~6% - значит, что для остальных игр нет данных о рейтинге критиков.\n",
    "Позже, когда буду анализировать данные, посмотрю, какие игры остались без рейтинга критиков и что с ними можно сделать."
   ],
   "metadata": {
    "collapsed": false
   }
  },
  {
   "cell_type": "markdown",
   "source": [
    "Посмотрю на уникальные не числовые значения в столбце user_score, так как у поля тип `object`, что странно для числового поля."
   ],
   "metadata": {
    "collapsed": false
   }
  },
  {
   "cell_type": "code",
   "outputs": [
    {
     "data": {
      "text/plain": "array([nan, 'tbd'], dtype=object)"
     },
     "execution_count": 14,
     "metadata": {},
     "output_type": "execute_result"
    }
   ],
   "source": [
    "non_numeric_values = data['user_score'].apply(pd.to_numeric, errors='coerce').isna()\n",
    "data.loc[non_numeric_values, 'user_score'].unique()"
   ],
   "metadata": {
    "collapsed": false,
    "ExecuteTime": {
     "end_time": "2024-02-22T21:18:29.688432Z",
     "start_time": "2024-02-22T21:18:29.600179Z"
    }
   },
   "execution_count": 14
  },
  {
   "cell_type": "markdown",
   "source": [
    "Как видно из уникальных значений, в столбце есть значение 'tbd', которое означает \"to be determined\" - \"будет определено\".\n",
    "Это значение означает, что у игры нет оценки пользователей, но она будет определена в будущем. Поэтому заменю это значение на пропуски."
   ],
   "metadata": {
    "collapsed": false
   }
  },
  {
   "cell_type": "code",
   "outputs": [],
   "source": [
    "data['user_score'] = data['user_score'].replace('tbd', np.nan)"
   ],
   "metadata": {
    "collapsed": false,
    "ExecuteTime": {
     "end_time": "2024-02-22T21:18:29.692604Z",
     "start_time": "2024-02-22T21:18:29.689297Z"
    }
   },
   "execution_count": 15
  },
  {
   "cell_type": "markdown",
   "source": [
    "Я вернусь к пропускам в user_score после того, когда преобразую типы данных."
   ],
   "metadata": {
    "collapsed": false
   }
  },
  {
   "cell_type": "code",
   "outputs": [
    {
     "data": {
      "text/plain": "<pandas.io.formats.style.Styler at 0x7fa075f0fa10>",
      "text/html": "<style type=\"text/css\">\n#T_e883c_row0_col0, #T_e883c_row1_col0, #T_e883c_row2_col0, #T_e883c_row3_col0, #T_e883c_row4_col0, #T_e883c_row5_col0, #T_e883c_row6_col0, #T_e883c_row7_col0 {\n  background-color: #3b4cc0;\n  color: #f1f1f1;\n}\n#T_e883c_row8_col0 {\n  background-color: #e67259;\n  color: #f1f1f1;\n}\n#T_e883c_row9_col0 {\n  background-color: #b40426;\n  color: #f1f1f1;\n}\n#T_e883c_row10_col0 {\n  background-color: #f59c7d;\n  color: #000000;\n}\n</style>\n<table id=\"T_e883c\">\n  <thead>\n    <tr>\n      <th class=\"blank level0\" >&nbsp;</th>\n      <th id=\"T_e883c_level0_col0\" class=\"col_heading level0 col0\" >0</th>\n    </tr>\n  </thead>\n  <tbody>\n    <tr>\n      <th id=\"T_e883c_level0_row0\" class=\"row_heading level0 row0\" >name</th>\n      <td id=\"T_e883c_row0_col0\" class=\"data row0 col0\" >0.00%</td>\n    </tr>\n    <tr>\n      <th id=\"T_e883c_level0_row1\" class=\"row_heading level0 row1\" >platform</th>\n      <td id=\"T_e883c_row1_col0\" class=\"data row1 col0\" >0.00%</td>\n    </tr>\n    <tr>\n      <th id=\"T_e883c_level0_row2\" class=\"row_heading level0 row2\" >year_of_release</th>\n      <td id=\"T_e883c_row2_col0\" class=\"data row2 col0\" >0.00%</td>\n    </tr>\n    <tr>\n      <th id=\"T_e883c_level0_row3\" class=\"row_heading level0 row3\" >genre</th>\n      <td id=\"T_e883c_row3_col0\" class=\"data row3 col0\" >0.00%</td>\n    </tr>\n    <tr>\n      <th id=\"T_e883c_level0_row4\" class=\"row_heading level0 row4\" >na_sales</th>\n      <td id=\"T_e883c_row4_col0\" class=\"data row4 col0\" >0.00%</td>\n    </tr>\n    <tr>\n      <th id=\"T_e883c_level0_row5\" class=\"row_heading level0 row5\" >eu_sales</th>\n      <td id=\"T_e883c_row5_col0\" class=\"data row5 col0\" >0.00%</td>\n    </tr>\n    <tr>\n      <th id=\"T_e883c_level0_row6\" class=\"row_heading level0 row6\" >jp_sales</th>\n      <td id=\"T_e883c_row6_col0\" class=\"data row6 col0\" >0.00%</td>\n    </tr>\n    <tr>\n      <th id=\"T_e883c_level0_row7\" class=\"row_heading level0 row7\" >other_sales</th>\n      <td id=\"T_e883c_row7_col0\" class=\"data row7 col0\" >0.00%</td>\n    </tr>\n    <tr>\n      <th id=\"T_e883c_level0_row8\" class=\"row_heading level0 row8\" >critic_score</th>\n      <td id=\"T_e883c_row8_col0\" class=\"data row8 col0\" >45.74%</td>\n    </tr>\n    <tr>\n      <th id=\"T_e883c_level0_row9\" class=\"row_heading level0 row9\" >user_score</th>\n      <td id=\"T_e883c_row9_col0\" class=\"data row9 col0\" >54.62%</td>\n    </tr>\n    <tr>\n      <th id=\"T_e883c_level0_row10\" class=\"row_heading level0 row10\" >rating</th>\n      <td id=\"T_e883c_row10_col0\" class=\"data row10 col0\" >40.60%</td>\n    </tr>\n  </tbody>\n</table>\n"
     },
     "execution_count": 16,
     "metadata": {},
     "output_type": "execute_result"
    }
   ],
   "source": [
    "missing_values(data)"
   ],
   "metadata": {
    "collapsed": false,
    "ExecuteTime": {
     "end_time": "2024-02-22T21:18:29.704429Z",
     "start_time": "2024-02-22T21:18:29.693425Z"
    }
   },
   "execution_count": 16
  },
  {
   "cell_type": "markdown",
   "source": [
    "Посмотрю на уникальные значения в столбце rating."
   ],
   "metadata": {
    "collapsed": false
   }
  },
  {
   "cell_type": "code",
   "outputs": [
    {
     "data": {
      "text/plain": "array(['E', nan, 'M', 'T', 'E10+', 'K-A', 'AO', 'EC', 'RP'], dtype=object)"
     },
     "execution_count": 17,
     "metadata": {},
     "output_type": "execute_result"
    }
   ],
   "source": [
    "data['rating'].unique()"
   ],
   "metadata": {
    "collapsed": false,
    "ExecuteTime": {
     "end_time": "2024-02-22T21:18:29.708640Z",
     "start_time": "2024-02-22T21:18:29.705112Z"
    }
   },
   "execution_count": 17
  },
  {
   "cell_type": "markdown",
   "source": [
    "В столбце `rating` есть значение рейтинга ESRB за разные годы, того же K-A сейчас уже нет.\n",
    "Также встречается значение 'RP', которое означает \"Rating Pending\" - \"рейтинг ожидается\".\n",
    "Это значение означает, что у игры нет рейтинга, но он будет определён в будущем.\n",
    "В целом, было бы логично заменить это значение на пропуски, но ESRB начала свою работу в 1994 году.\n",
    "Поэтому сначала я преобразую `year_of_release` в числовой тип и посмотрю в каких годах рейтинга ESRB ещё не было, потому вернусь к заполнению пропусков в `rating`."
   ],
   "metadata": {
    "collapsed": false
   }
  },
  {
   "cell_type": "markdown",
   "source": [
    "### Исправление типов данных"
   ],
   "metadata": {
    "collapsed": false
   }
  },
  {
   "cell_type": "markdown",
   "source": [
    "Ещё раз посмотрю на типы данных в датафрейме."
   ],
   "metadata": {
    "collapsed": false
   }
  },
  {
   "cell_type": "code",
   "outputs": [
    {
     "name": "stdout",
     "output_type": "stream",
     "text": [
      "<class 'pandas.core.frame.DataFrame'>\n",
      "Index: 16444 entries, 0 to 16714\n",
      "Data columns (total 11 columns):\n",
      " #   Column           Non-Null Count  Dtype  \n",
      "---  ------           --------------  -----  \n",
      " 0   name             16444 non-null  object \n",
      " 1   platform         16444 non-null  object \n",
      " 2   year_of_release  16444 non-null  float64\n",
      " 3   genre            16444 non-null  object \n",
      " 4   na_sales         16444 non-null  float64\n",
      " 5   eu_sales         16444 non-null  float64\n",
      " 6   jp_sales         16444 non-null  float64\n",
      " 7   other_sales      16444 non-null  float64\n",
      " 8   critic_score     8922 non-null   float64\n",
      " 9   user_score       7463 non-null   object \n",
      " 10  rating           9768 non-null   object \n",
      "dtypes: float64(6), object(5)\n",
      "memory usage: 1.5+ MB\n"
     ]
    }
   ],
   "source": [
    "data.info()"
   ],
   "metadata": {
    "collapsed": false,
    "ExecuteTime": {
     "end_time": "2024-02-22T21:18:29.718525Z",
     "start_time": "2024-02-22T21:18:29.709406Z"
    }
   },
   "execution_count": 18
  },
  {
   "cell_type": "markdown",
   "source": [
    "Преобразую `year_of_release` в целочисленный тип."
   ],
   "metadata": {
    "collapsed": false
   }
  },
  {
   "cell_type": "code",
   "outputs": [],
   "source": [
    "data['year_of_release'] = data['year_of_release'].astype('Int64')"
   ],
   "metadata": {
    "collapsed": false,
    "ExecuteTime": {
     "end_time": "2024-02-22T21:18:29.722784Z",
     "start_time": "2024-02-22T21:18:29.719246Z"
    }
   },
   "execution_count": 19
  },
  {
   "cell_type": "markdown",
   "source": [
    "Изменю тип данных в user_score на числовой тип."
   ],
   "metadata": {
    "collapsed": false
   }
  },
  {
   "cell_type": "code",
   "outputs": [],
   "source": [
    "data['user_score'] = data['user_score'].astype('float')"
   ],
   "metadata": {
    "collapsed": false,
    "ExecuteTime": {
     "end_time": "2024-02-22T21:18:29.728564Z",
     "start_time": "2024-02-22T21:18:29.723525Z"
    }
   },
   "execution_count": 20
  },
  {
   "cell_type": "markdown",
   "source": [
    "Проверю изменения в типах данных."
   ],
   "metadata": {
    "collapsed": false
   }
  },
  {
   "cell_type": "code",
   "outputs": [
    {
     "name": "stdout",
     "output_type": "stream",
     "text": [
      "<class 'pandas.core.frame.DataFrame'>\n",
      "Index: 16444 entries, 0 to 16714\n",
      "Data columns (total 11 columns):\n",
      " #   Column           Non-Null Count  Dtype  \n",
      "---  ------           --------------  -----  \n",
      " 0   name             16444 non-null  object \n",
      " 1   platform         16444 non-null  object \n",
      " 2   year_of_release  16444 non-null  Int64  \n",
      " 3   genre            16444 non-null  object \n",
      " 4   na_sales         16444 non-null  float64\n",
      " 5   eu_sales         16444 non-null  float64\n",
      " 6   jp_sales         16444 non-null  float64\n",
      " 7   other_sales      16444 non-null  float64\n",
      " 8   critic_score     8922 non-null   float64\n",
      " 9   user_score       7463 non-null   float64\n",
      " 10  rating           9768 non-null   object \n",
      "dtypes: Int64(1), float64(6), object(4)\n",
      "memory usage: 1.5+ MB\n"
     ]
    }
   ],
   "source": [
    "data.info()"
   ],
   "metadata": {
    "collapsed": false,
    "ExecuteTime": {
     "end_time": "2024-02-22T21:18:29.738972Z",
     "start_time": "2024-02-22T21:18:29.729190Z"
    }
   },
   "execution_count": 21
  },
  {
   "cell_type": "markdown",
   "source": [
    "`critic_score` и `user_score` имеют разный максимальный балл - 100 и 10 соответственно.\n",
    "Нужно привести их к одному максимальному баллу, чтобы было удобнее сравнивать их."
   ],
   "metadata": {
    "collapsed": false
   }
  },
  {
   "cell_type": "code",
   "outputs": [],
   "source": [
    "data['user_score'] = data['user_score'] * 10"
   ],
   "metadata": {
    "collapsed": false,
    "ExecuteTime": {
     "end_time": "2024-02-22T21:20:56.222007Z",
     "start_time": "2024-02-22T21:20:56.213404Z"
    }
   },
   "execution_count": 23
  },
  {
   "cell_type": "markdown",
   "source": [
    "Проверю, что преобразование прошло успешно."
   ],
   "metadata": {
    "collapsed": false
   }
  },
  {
   "cell_type": "code",
   "outputs": [
    {
     "data": {
      "text/plain": "                       name platform  year_of_release         genre  na_sales  \\\n0                Wii Sports      Wii             2006        Sports     41.36   \n1         Super Mario Bros.      NES             1985      Platform     29.08   \n2            Mario Kart Wii      Wii             2008        Racing     15.68   \n3         Wii Sports Resort      Wii             2009        Sports     15.61   \n4  Pokemon Red/Pokemon Blue       GB             1996  Role-Playing     11.27   \n\n   eu_sales  jp_sales  other_sales  critic_score  user_score rating  \n0     28.96      3.77         8.45          76.0        80.0      E  \n1      3.58      6.81         0.77           NaN         NaN    NaN  \n2     12.76      3.79         3.29          82.0        83.0      E  \n3     10.93      3.28         2.95          80.0        80.0      E  \n4      8.89     10.22         1.00           NaN         NaN    NaN  ",
      "text/html": "<div>\n<style scoped>\n    .dataframe tbody tr th:only-of-type {\n        vertical-align: middle;\n    }\n\n    .dataframe tbody tr th {\n        vertical-align: top;\n    }\n\n    .dataframe thead th {\n        text-align: right;\n    }\n</style>\n<table border=\"1\" class=\"dataframe\">\n  <thead>\n    <tr style=\"text-align: right;\">\n      <th></th>\n      <th>name</th>\n      <th>platform</th>\n      <th>year_of_release</th>\n      <th>genre</th>\n      <th>na_sales</th>\n      <th>eu_sales</th>\n      <th>jp_sales</th>\n      <th>other_sales</th>\n      <th>critic_score</th>\n      <th>user_score</th>\n      <th>rating</th>\n    </tr>\n  </thead>\n  <tbody>\n    <tr>\n      <th>0</th>\n      <td>Wii Sports</td>\n      <td>Wii</td>\n      <td>2006</td>\n      <td>Sports</td>\n      <td>41.36</td>\n      <td>28.96</td>\n      <td>3.77</td>\n      <td>8.45</td>\n      <td>76.0</td>\n      <td>80.0</td>\n      <td>E</td>\n    </tr>\n    <tr>\n      <th>1</th>\n      <td>Super Mario Bros.</td>\n      <td>NES</td>\n      <td>1985</td>\n      <td>Platform</td>\n      <td>29.08</td>\n      <td>3.58</td>\n      <td>6.81</td>\n      <td>0.77</td>\n      <td>NaN</td>\n      <td>NaN</td>\n      <td>NaN</td>\n    </tr>\n    <tr>\n      <th>2</th>\n      <td>Mario Kart Wii</td>\n      <td>Wii</td>\n      <td>2008</td>\n      <td>Racing</td>\n      <td>15.68</td>\n      <td>12.76</td>\n      <td>3.79</td>\n      <td>3.29</td>\n      <td>82.0</td>\n      <td>83.0</td>\n      <td>E</td>\n    </tr>\n    <tr>\n      <th>3</th>\n      <td>Wii Sports Resort</td>\n      <td>Wii</td>\n      <td>2009</td>\n      <td>Sports</td>\n      <td>15.61</td>\n      <td>10.93</td>\n      <td>3.28</td>\n      <td>2.95</td>\n      <td>80.0</td>\n      <td>80.0</td>\n      <td>E</td>\n    </tr>\n    <tr>\n      <th>4</th>\n      <td>Pokemon Red/Pokemon Blue</td>\n      <td>GB</td>\n      <td>1996</td>\n      <td>Role-Playing</td>\n      <td>11.27</td>\n      <td>8.89</td>\n      <td>10.22</td>\n      <td>1.00</td>\n      <td>NaN</td>\n      <td>NaN</td>\n      <td>NaN</td>\n    </tr>\n  </tbody>\n</table>\n</div>"
     },
     "execution_count": 24,
     "metadata": {},
     "output_type": "execute_result"
    }
   ],
   "source": [
    "data.head()"
   ],
   "metadata": {
    "collapsed": false,
    "ExecuteTime": {
     "end_time": "2024-02-22T21:21:03.295102Z",
     "start_time": "2024-02-22T21:21:03.267993Z"
    }
   },
   "execution_count": 24
  },
  {
   "cell_type": "markdown",
   "source": [
    "### Вернемся к пропускам в user_score и rating"
   ],
   "metadata": {
    "collapsed": false
   }
  },
  {
   "cell_type": "markdown",
   "source": [
    "Пропусков стало на \\~14% больше, чем было до этого, но это и не удивительно.\n",
    "\n",
    "Заполню пропуски в user_score медианным значением рейтинга пользователей по каждой игре."
   ],
   "metadata": {
    "collapsed": false
   }
  },
  {
   "cell_type": "code",
   "outputs": [],
   "source": [
    "data['user_score'] = data['user_score'].fillna(data.groupby('name')['user_score'].transform('median'))"
   ],
   "metadata": {
    "collapsed": false,
    "ExecuteTime": {
     "end_time": "2024-02-22T21:18:29.750875Z",
     "start_time": "2024-02-22T21:18:29.739780Z"
    }
   },
   "execution_count": 22
  },
  {
   "cell_type": "markdown",
   "source": [
    "Проверю, остались ли после этого пропуски в user_score."
   ],
   "metadata": {
    "collapsed": false
   }
  },
  {
   "cell_type": "markdown",
   "source": [
    "В итоге пропусков в столбце user_score стало 48.16% - это много, но больше сделать с этими данными нечего, так как удалять их точно нельзя.\n",
    "Пропуски тут опять же означают, что для остальных игр нет данных о рейтинге пользователей."
   ],
   "metadata": {
    "collapsed": false
   }
  },
  {
   "cell_type": "markdown",
   "source": [],
   "metadata": {
    "collapsed": false
   }
  },
  {
   "cell_type": "markdown",
   "source": [
    "Описание проекта\n",
    "\n",
    "Вы работаете в интернет-магазине «Стримчик», который продаёт по всему миру компьютерные игры. Из открытых источников доступны исторические данные о продажах игр, оценки пользователей и экспертов, жанры и платформы (например, Xbox или PlayStation). Вам нужно выявить определяющие успешность игры закономерности. Это позволит сделать ставку на потенциально популярный продукт и спланировать рекламные кампании.\n",
    "Перед вами данные до 2016 года. Представим, что сейчас декабрь 2016 г., и вы планируете кампанию на 2017-й. Нужно отработать принцип работы с данными. Неважно, прогнозируете ли вы продажи на 2017 год по данным 2016-го или же 2027-й — по данным 2026 года.\n",
    "В наборе данных попадается аббревиатура ESRB (Entertainment Software Rating Board) — это ассоциация, определяющая возрастной рейтинг компьютерных игр. ESRB оценивает игровой контент и присваивает ему подходящую возрастную категорию, например, «Для взрослых», «Для детей младшего возраста» или «Для подростков».\n",
    "\n",
    "Инструкция по выполнению проекта\n",
    "\n",
    "Шаг 1. Откройте файл с данными и изучите общую информацию\n",
    "путь к файлу: /datasets/games.csv\n",
    "\n",
    "Шаг 2. Подготовьте данные.\n",
    "Замените названия столбцов (приведите к нижнему регистру);\n",
    "Преобразуйте данные в нужные типы. Опишите, в каких столбцах заменили тип данных и почему;\n",
    "Обработайте пропуски при необходимости:\n",
    "Объясните, почему заполнили пропуски определённым образом или почему не стали это делать;\n",
    "Опишите причины, которые могли привести к пропускам;\n",
    "Обратите внимание на аббревиатуру 'tbd' в столбцах с рейтингом. Отдельно разберите это значение и опишите, как его обработать;\n",
    "Посчитайте суммарные продажи во всех регионах и запишите их в отдельный столбец.\n",
    "\n",
    "Шаг 3. Проведите исследовательский анализ данных.\n",
    "Посмотрите, сколько игр выпускалось в разные годы. Важны ли данные за все периоды?\n",
    "Посмотрите, как менялись продажи по платформам. Выберите платформы с наибольшими суммарными продажами и постройте распределение по годам. За какой характерный срок появляются новые и исчезают старые платформы?\n",
    "Возьмите данные за соответствующий актуальный период. Актуальный период определите самостоятельно в результате исследования предыдущих вопросов. Основной фактор — эти данные помогут построить прогноз на 2017 год.\n",
    "Не учитывайте в работе данные за предыдущие годы.\n",
    "Какие платформы лидируют по продажам, растут или падают? Выберите несколько потенциально прибыльных платформ.\n",
    "Постройте график «ящик с усами» по глобальным продажам игр в разбивке по платформам. Опишите результат.\n",
    "Посмотрите, как влияют на продажи внутри одной популярной платформы отзывы пользователей и критиков. Постройте диаграмму рассеяния и посчитайте корреляцию между отзывами и продажами. Сформулируйте выводы.\n",
    "Соотнесите выводы с продажами игр на других платформах.\n",
    "Посмотрите на общее распределение игр по жанрам. Что можно сказать о самых прибыльных жанрах? Выделяются ли жанры с высокими и низкими продажами?\n",
    "\n",
    "Шаг 4. Составьте портрет пользователя каждого региона.\n",
    "Определите для пользователя каждого региона (NA, EU, JP):\n",
    "Самые популярные платформы (топ-5). Опишите различия в долях продаж.\n",
    "Самые популярные жанры (топ-5). Поясните разницу.\n",
    "Влияет ли рейтинг ESRB на продажи в отдельном регионе?\n",
    "\n",
    "Шаг 5. Проверьте гипотезы.\n",
    "Средние пользовательские рейтинги платформ Xbox One и PC одинаковые;\n",
    "Средние пользовательские рейтинги жанров Action (англ. «действие», экшен-игры) и Sports (англ. «спортивные соревнования») разные.\n",
    "Задайте самостоятельно пороговое значение alpha.\n",
    "Поясните:\n",
    "Как вы сформулировали нулевую и альтернативную гипотезы;\n",
    "Какой критерий применили для проверки гипотез и почему.\n",
    "\n",
    "Шаг 6. Напишите общий вывод.\n",
    "Оформление: Задание выполните в Jupyter Notebook. Программный код заполните в ячейках типа code, текстовые пояснения — в ячейках типа markdown. Примените форматирование и заголовки.\n",
    "\n",
    "Описание данных\n",
    "Name — название игры\n",
    "Platform — платформа\n",
    "Year_of_Release — год выпуска\n",
    "Genre — жанр игры\n",
    "NA_sales — продажи в Северной Америке (миллионы долларов)\n",
    "EU_sales — продажи в Европе (миллионы долларов)\n",
    "JP_sales — продажи в Японии (миллионы долларов)\n",
    "Other_sales — продажи в других странах (миллионы долларов)\n",
    "Critic_Score — оценка критиков (максимум 100)\n",
    "User_Score — оценка пользователей (максимум 10)\n",
    "Rating — рейтинг от организации ESRB (англ. Entertainment Software Rating Board). Эта ассоциация определяет рейтинг компьютерных игр и присваивает им подходящую возрастную категори, например, «Для взрослых», «Для детей младшего возраста» или «Для подростков».\n",
    "\n",
    "Данные за 2016 год могут быть неполными."
   ],
   "metadata": {
    "collapsed": false
   }
  }
 ],
 "metadata": {
  "kernelspec": {
   "display_name": "Python 3 (ipykernel)",
   "language": "python",
   "name": "python3"
  },
  "language_info": {
   "codemirror_mode": {
    "name": "ipython",
    "version": 3
   },
   "file_extension": ".py",
   "mimetype": "text/x-python",
   "name": "python",
   "nbconvert_exporter": "python",
   "pygments_lexer": "ipython3",
   "version": "3.9.5"
  },
  "toc": {
   "base_numbering": 1,
   "nav_menu": {},
   "number_sections": true,
   "sideBar": true,
   "skip_h1_title": true,
   "title_cell": "Table of Contents",
   "title_sidebar": "Contents",
   "toc_cell": false,
   "toc_position": {},
   "toc_section_display": true,
   "toc_window_display": false
  }
 },
 "nbformat": 4,
 "nbformat_minor": 2
}

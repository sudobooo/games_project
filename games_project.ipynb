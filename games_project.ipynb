{
 "cells": [
  {
   "cell_type": "markdown",
   "source": [
    "# Иследование продаж видео игр"
   ],
   "metadata": {
    "collapsed": false
   }
  },
  {
   "cell_type": "markdown",
   "source": [
    "В моём распоряжении данные о продажах игр, оценки пользователей и экспертов, жанры и платформы. Необходимо выявить определяющие успешность игры закономерности. Это позволит сделать ставку на потенциально популярный продукт и спланировать рекламные кампании.\n",
    "\n",
    "У меня есть данные до 2016 года. Представим, что сейчас декабрь 2016 г., и я планирую кампанию на 2017-й. Данные за 2016 год могут быть неполными.\n",
    "\n",
    "Цель исследования:\n",
    "- изучить информацию о продажах игр.\n",
    "- выявить определяющие успешность игры закономерности.\n",
    "- проверить гипотезы, которые помогут понять, какие игры стоит продвигать в 2017 году.\n",
    "- сделать ставку на потенциально популярный продукт, чтобы спланировать рекламные кампании.\n",
    "\n",
    "Ход исследования:\n",
    "\n",
    "Необходимые данные получу из датасета games.csv. О состоянии и качестве данных ничего не известно, поэтому я сначала открою файл и изучу общую информацию.\n",
    "\n",
    "Предобработаю данные:\n",
    "- Если будут проблемы с наименованием столбцов, то переименую их, чтобы привести к удобным и читаемым названиям.\n",
    "- Проверю на явные дубликаты и если такие имеются, то удалю.\n",
    "- Проверю на наличие пропусков и обработаю их.\n",
    "- Если будет необходимость, то исправлю типы данных\n",
    "- Обработаю неявные дубликаты.\n",
    "- Для удобного анализа в дальнейшем - добавлю необходимые столбцы.\n",
    "\n",
    "Перейду к исследовательскому анализу данных, где опишу и визуализирую информацию о продажах игр:\n",
    "- Посмотрю, сколько игр выпускалось в разные годы.\n",
    "- Посмотрю, как менялись продажи по платформам.\n",
    "- Возьму данные за соответствующий актуальный период.\n",
    "- Изучу какие платформы лидируют по продажам, растут или падают.\n",
    "- Построю график \"ящик с усами\" по глобальным продажам игр в разбивке по платформам.\n",
    "- Посмотрю, как влияют на продажи внутри одной популярной платформы отзывы пользователей и критиков.\n",
    "- Соотнесу выводы с продажами игр на других платформах.\n",
    "- Посмотрю на общее распределение игр по жанрам.\n",
    "\n",
    "Составлю портрет пользователя каждого региона:\n",
    "- Определю для пользователя каждого региона (NA, EU, JP):\n",
    "    - Самые популярные платформы (топ-5).\n",
    "    - Самые популярные жанры (топ-5).\n",
    "    - Влияет ли рейтинг ESRB на продажи в отдельном регионе?\n",
    "\n",
    "После этого проверю гипотезы:\n",
    "- Средние пользовательские рейтинги платформ Xbox One и PC одинаковые.\n",
    "- Средние пользовательские рейтинги жанров Action и Sports разные.\n",
    "\n",
    "В завершении сделаю общий вывод по исследованию."
   ],
   "metadata": {
    "collapsed": false
   }
  },
  {
   "cell_type": "markdown",
   "source": [
    "## Открою файл с данными и изучу общую информацию"
   ],
   "metadata": {
    "collapsed": false
   }
  },
  {
   "cell_type": "code",
   "outputs": [],
   "source": [
    "import pandas as pd\n",
    "import numpy as np\n",
    "import matplotlib.pyplot as plt\n",
    "from scipy import stats as st"
   ],
   "metadata": {
    "collapsed": false,
    "ExecuteTime": {
     "end_time": "2024-02-24T21:35:53.689111Z",
     "start_time": "2024-02-24T21:35:53.065806Z"
    }
   },
   "execution_count": 1
  },
  {
   "cell_type": "code",
   "outputs": [],
   "source": [
    "data = pd.read_csv('./datasets/games.csv')"
   ],
   "metadata": {
    "collapsed": false,
    "ExecuteTime": {
     "end_time": "2024-02-24T21:35:53.710517Z",
     "start_time": "2024-02-24T21:35:53.690296Z"
    }
   },
   "execution_count": 2
  },
  {
   "cell_type": "markdown",
   "source": [
    "Посмотрю на первые 5 строк датафрейма и посмотрю общую информацию о данных."
   ],
   "metadata": {
    "collapsed": false
   }
  },
  {
   "cell_type": "code",
   "outputs": [
    {
     "data": {
      "text/plain": "                       Name Platform  Year_of_Release         Genre  NA_sales  \\\n0                Wii Sports      Wii           2006.0        Sports     41.36   \n1         Super Mario Bros.      NES           1985.0      Platform     29.08   \n2            Mario Kart Wii      Wii           2008.0        Racing     15.68   \n3         Wii Sports Resort      Wii           2009.0        Sports     15.61   \n4  Pokemon Red/Pokemon Blue       GB           1996.0  Role-Playing     11.27   \n\n   EU_sales  JP_sales  Other_sales  Critic_Score User_Score Rating  \n0     28.96      3.77         8.45          76.0          8      E  \n1      3.58      6.81         0.77           NaN        NaN    NaN  \n2     12.76      3.79         3.29          82.0        8.3      E  \n3     10.93      3.28         2.95          80.0          8      E  \n4      8.89     10.22         1.00           NaN        NaN    NaN  ",
      "text/html": "<div>\n<style scoped>\n    .dataframe tbody tr th:only-of-type {\n        vertical-align: middle;\n    }\n\n    .dataframe tbody tr th {\n        vertical-align: top;\n    }\n\n    .dataframe thead th {\n        text-align: right;\n    }\n</style>\n<table border=\"1\" class=\"dataframe\">\n  <thead>\n    <tr style=\"text-align: right;\">\n      <th></th>\n      <th>Name</th>\n      <th>Platform</th>\n      <th>Year_of_Release</th>\n      <th>Genre</th>\n      <th>NA_sales</th>\n      <th>EU_sales</th>\n      <th>JP_sales</th>\n      <th>Other_sales</th>\n      <th>Critic_Score</th>\n      <th>User_Score</th>\n      <th>Rating</th>\n    </tr>\n  </thead>\n  <tbody>\n    <tr>\n      <th>0</th>\n      <td>Wii Sports</td>\n      <td>Wii</td>\n      <td>2006.0</td>\n      <td>Sports</td>\n      <td>41.36</td>\n      <td>28.96</td>\n      <td>3.77</td>\n      <td>8.45</td>\n      <td>76.0</td>\n      <td>8</td>\n      <td>E</td>\n    </tr>\n    <tr>\n      <th>1</th>\n      <td>Super Mario Bros.</td>\n      <td>NES</td>\n      <td>1985.0</td>\n      <td>Platform</td>\n      <td>29.08</td>\n      <td>3.58</td>\n      <td>6.81</td>\n      <td>0.77</td>\n      <td>NaN</td>\n      <td>NaN</td>\n      <td>NaN</td>\n    </tr>\n    <tr>\n      <th>2</th>\n      <td>Mario Kart Wii</td>\n      <td>Wii</td>\n      <td>2008.0</td>\n      <td>Racing</td>\n      <td>15.68</td>\n      <td>12.76</td>\n      <td>3.79</td>\n      <td>3.29</td>\n      <td>82.0</td>\n      <td>8.3</td>\n      <td>E</td>\n    </tr>\n    <tr>\n      <th>3</th>\n      <td>Wii Sports Resort</td>\n      <td>Wii</td>\n      <td>2009.0</td>\n      <td>Sports</td>\n      <td>15.61</td>\n      <td>10.93</td>\n      <td>3.28</td>\n      <td>2.95</td>\n      <td>80.0</td>\n      <td>8</td>\n      <td>E</td>\n    </tr>\n    <tr>\n      <th>4</th>\n      <td>Pokemon Red/Pokemon Blue</td>\n      <td>GB</td>\n      <td>1996.0</td>\n      <td>Role-Playing</td>\n      <td>11.27</td>\n      <td>8.89</td>\n      <td>10.22</td>\n      <td>1.00</td>\n      <td>NaN</td>\n      <td>NaN</td>\n      <td>NaN</td>\n    </tr>\n  </tbody>\n</table>\n</div>"
     },
     "execution_count": 3,
     "metadata": {},
     "output_type": "execute_result"
    }
   ],
   "source": [
    "data.head()"
   ],
   "metadata": {
    "collapsed": false,
    "ExecuteTime": {
     "end_time": "2024-02-24T21:35:53.721347Z",
     "start_time": "2024-02-24T21:35:53.711342Z"
    }
   },
   "execution_count": 3
  },
  {
   "cell_type": "code",
   "outputs": [
    {
     "name": "stdout",
     "output_type": "stream",
     "text": [
      "<class 'pandas.core.frame.DataFrame'>\n",
      "RangeIndex: 16715 entries, 0 to 16714\n",
      "Data columns (total 11 columns):\n",
      " #   Column           Non-Null Count  Dtype  \n",
      "---  ------           --------------  -----  \n",
      " 0   Name             16713 non-null  object \n",
      " 1   Platform         16715 non-null  object \n",
      " 2   Year_of_Release  16446 non-null  float64\n",
      " 3   Genre            16713 non-null  object \n",
      " 4   NA_sales         16715 non-null  float64\n",
      " 5   EU_sales         16715 non-null  float64\n",
      " 6   JP_sales         16715 non-null  float64\n",
      " 7   Other_sales      16715 non-null  float64\n",
      " 8   Critic_Score     8137 non-null   float64\n",
      " 9   User_Score       10014 non-null  object \n",
      " 10  Rating           9949 non-null   object \n",
      "dtypes: float64(6), object(5)\n",
      "memory usage: 1.4+ MB\n"
     ]
    }
   ],
   "source": [
    "data.info()"
   ],
   "metadata": {
    "collapsed": false,
    "ExecuteTime": {
     "end_time": "2024-02-24T21:35:53.730426Z",
     "start_time": "2024-02-24T21:35:53.722466Z"
    }
   },
   "execution_count": 4
  },
  {
   "cell_type": "markdown",
   "source": [
    "Я смог прочесть датасет, каких-то проблем при этом не возникло.\n",
    "\n",
    "В датасете 11 столбцов и 16715 строк. В некоторых столбцах есть пропуски и неподходящие типы данных. Названия столбцов необходимо привести к нижнему регистру."
   ],
   "metadata": {
    "collapsed": false
   }
  },
  {
   "cell_type": "markdown",
   "source": [
    "## Предобработка данных"
   ],
   "metadata": {
    "collapsed": false
   }
  },
  {
   "cell_type": "markdown",
   "source": [
    "### Переименование столбцов"
   ],
   "metadata": {
    "collapsed": false
   }
  },
  {
   "cell_type": "markdown",
   "source": [
    "Приведём названия столбцов к стандарту snake_case - в нашем случае это только нижний регистр, так как андерскоры уже есть в названиях столбцов."
   ],
   "metadata": {
    "collapsed": false
   }
  },
  {
   "cell_type": "code",
   "outputs": [],
   "source": [
    "data.columns = data.columns.str.lower()"
   ],
   "metadata": {
    "collapsed": false,
    "ExecuteTime": {
     "end_time": "2024-02-24T21:35:53.733250Z",
     "start_time": "2024-02-24T21:35:53.731146Z"
    }
   },
   "execution_count": 5
  },
  {
   "cell_type": "markdown",
   "source": [
    "Проверю, что названия столбцов изменились."
   ],
   "metadata": {
    "collapsed": false
   }
  },
  {
   "cell_type": "code",
   "outputs": [
    {
     "name": "stdout",
     "output_type": "stream",
     "text": [
      "<class 'pandas.core.frame.DataFrame'>\n",
      "RangeIndex: 16715 entries, 0 to 16714\n",
      "Data columns (total 11 columns):\n",
      " #   Column           Non-Null Count  Dtype  \n",
      "---  ------           --------------  -----  \n",
      " 0   name             16713 non-null  object \n",
      " 1   platform         16715 non-null  object \n",
      " 2   year_of_release  16446 non-null  float64\n",
      " 3   genre            16713 non-null  object \n",
      " 4   na_sales         16715 non-null  float64\n",
      " 5   eu_sales         16715 non-null  float64\n",
      " 6   jp_sales         16715 non-null  float64\n",
      " 7   other_sales      16715 non-null  float64\n",
      " 8   critic_score     8137 non-null   float64\n",
      " 9   user_score       10014 non-null  object \n",
      " 10  rating           9949 non-null   object \n",
      "dtypes: float64(6), object(5)\n",
      "memory usage: 1.4+ MB\n"
     ]
    }
   ],
   "source": [
    "data.info()"
   ],
   "metadata": {
    "collapsed": false,
    "ExecuteTime": {
     "end_time": "2024-02-24T21:35:53.743559Z",
     "start_time": "2024-02-24T21:35:53.733929Z"
    }
   },
   "execution_count": 6
  },
  {
   "cell_type": "markdown",
   "source": [
    "### Исправление типов данных"
   ],
   "metadata": {
    "collapsed": false
   }
  },
  {
   "cell_type": "markdown",
   "source": [
    "Преобразую `year_of_release` в целочисленный тип."
   ],
   "metadata": {
    "collapsed": false
   }
  },
  {
   "cell_type": "code",
   "outputs": [],
   "source": [
    "data['year_of_release'] = data['year_of_release'].astype('Int64')"
   ],
   "metadata": {
    "collapsed": false,
    "ExecuteTime": {
     "end_time": "2024-02-24T21:35:53.747481Z",
     "start_time": "2024-02-24T21:35:53.744365Z"
    }
   },
   "execution_count": 7
  },
  {
   "cell_type": "markdown",
   "source": [
    "Посмотрю на уникальные не числовые значения в столбце user_score, так как у поля тип `object`, что странно для числового поля."
   ],
   "metadata": {
    "collapsed": false
   }
  },
  {
   "cell_type": "code",
   "outputs": [
    {
     "data": {
      "text/plain": "array([nan, 'tbd'], dtype=object)"
     },
     "execution_count": 8,
     "metadata": {},
     "output_type": "execute_result"
    }
   ],
   "source": [
    "non_numeric_values = data['user_score'].apply(pd.to_numeric, errors='coerce').isna()\n",
    "data.loc[non_numeric_values, 'user_score'].unique()"
   ],
   "metadata": {
    "collapsed": false,
    "ExecuteTime": {
     "end_time": "2024-02-24T21:35:53.827766Z",
     "start_time": "2024-02-24T21:35:53.748058Z"
    }
   },
   "execution_count": 8
  },
  {
   "cell_type": "markdown",
   "source": [
    "Как видно из уникальных значений, в столбце есть значение 'tbd', которое означает \"to be determined\" - \"будет определено\".\n",
    "Это значение означает, что у игры нет оценки пользователей, но она будет определена в будущем. Поэтому заменю это значение на пропуски."
   ],
   "metadata": {
    "collapsed": false
   }
  },
  {
   "cell_type": "code",
   "outputs": [],
   "source": [
    "data['user_score'] = data['user_score'].replace('tbd', np.nan)"
   ],
   "metadata": {
    "collapsed": false,
    "ExecuteTime": {
     "end_time": "2024-02-24T21:35:53.832212Z",
     "start_time": "2024-02-24T21:35:53.828538Z"
    }
   },
   "execution_count": 9
  },
  {
   "cell_type": "markdown",
   "source": [
    "Изменю тип данных в user_score на числовой тип."
   ],
   "metadata": {
    "collapsed": false
   }
  },
  {
   "cell_type": "code",
   "outputs": [],
   "source": [
    "data['user_score'] = data['user_score'].astype('float')"
   ],
   "metadata": {
    "collapsed": false,
    "ExecuteTime": {
     "end_time": "2024-02-24T21:35:53.837992Z",
     "start_time": "2024-02-24T21:35:53.834216Z"
    }
   },
   "execution_count": 10
  },
  {
   "cell_type": "markdown",
   "source": [
    "Проверю изменения в типах данных."
   ],
   "metadata": {
    "collapsed": false
   }
  },
  {
   "cell_type": "code",
   "outputs": [
    {
     "name": "stdout",
     "output_type": "stream",
     "text": [
      "<class 'pandas.core.frame.DataFrame'>\n",
      "RangeIndex: 16715 entries, 0 to 16714\n",
      "Data columns (total 11 columns):\n",
      " #   Column           Non-Null Count  Dtype  \n",
      "---  ------           --------------  -----  \n",
      " 0   name             16713 non-null  object \n",
      " 1   platform         16715 non-null  object \n",
      " 2   year_of_release  16446 non-null  Int64  \n",
      " 3   genre            16713 non-null  object \n",
      " 4   na_sales         16715 non-null  float64\n",
      " 5   eu_sales         16715 non-null  float64\n",
      " 6   jp_sales         16715 non-null  float64\n",
      " 7   other_sales      16715 non-null  float64\n",
      " 8   critic_score     8137 non-null   float64\n",
      " 9   user_score       7590 non-null   float64\n",
      " 10  rating           9949 non-null   object \n",
      "dtypes: Int64(1), float64(6), object(4)\n",
      "memory usage: 1.4+ MB\n"
     ]
    }
   ],
   "source": [
    "data.info()"
   ],
   "metadata": {
    "collapsed": false,
    "ExecuteTime": {
     "end_time": "2024-02-24T21:35:53.848266Z",
     "start_time": "2024-02-24T21:35:53.838778Z"
    }
   },
   "execution_count": 11
  },
  {
   "cell_type": "markdown",
   "source": [
    "`critic_score` и `user_score` имеют разный максимальный балл - 100 и 10 соответственно.\n",
    "Нужно привести их к одному максимальному баллу, чтобы было удобнее сравнивать их."
   ],
   "metadata": {
    "collapsed": false
   }
  },
  {
   "cell_type": "code",
   "outputs": [],
   "source": [
    "data['user_score'] = data['user_score'] * 10"
   ],
   "metadata": {
    "collapsed": false,
    "ExecuteTime": {
     "end_time": "2024-02-24T21:35:53.851295Z",
     "start_time": "2024-02-24T21:35:53.849085Z"
    }
   },
   "execution_count": 12
  },
  {
   "cell_type": "markdown",
   "source": [
    "Проверю, есть ли среди значений в столбце `user_score` и `critic_score` значения больше 100."
   ],
   "metadata": {
    "collapsed": false
   }
  },
  {
   "cell_type": "code",
   "outputs": [
    {
     "data": {
      "text/plain": "0"
     },
     "execution_count": 13,
     "metadata": {},
     "output_type": "execute_result"
    }
   ],
   "source": [
    "data.query('user_score > 100 or critic_score > 100').shape[0]"
   ],
   "metadata": {
    "collapsed": false,
    "ExecuteTime": {
     "end_time": "2024-02-24T21:35:53.858875Z",
     "start_time": "2024-02-24T21:35:53.851999Z"
    }
   },
   "execution_count": 13
  },
  {
   "cell_type": "markdown",
   "source": [
    "Проверю, что преобразование прошло успешно."
   ],
   "metadata": {
    "collapsed": false
   }
  },
  {
   "cell_type": "code",
   "outputs": [
    {
     "data": {
      "text/plain": "                       name platform  year_of_release         genre  na_sales  \\\n0                Wii Sports      Wii             2006        Sports     41.36   \n1         Super Mario Bros.      NES             1985      Platform     29.08   \n2            Mario Kart Wii      Wii             2008        Racing     15.68   \n3         Wii Sports Resort      Wii             2009        Sports     15.61   \n4  Pokemon Red/Pokemon Blue       GB             1996  Role-Playing     11.27   \n\n   eu_sales  jp_sales  other_sales  critic_score  user_score rating  \n0     28.96      3.77         8.45          76.0        80.0      E  \n1      3.58      6.81         0.77           NaN         NaN    NaN  \n2     12.76      3.79         3.29          82.0        83.0      E  \n3     10.93      3.28         2.95          80.0        80.0      E  \n4      8.89     10.22         1.00           NaN         NaN    NaN  ",
      "text/html": "<div>\n<style scoped>\n    .dataframe tbody tr th:only-of-type {\n        vertical-align: middle;\n    }\n\n    .dataframe tbody tr th {\n        vertical-align: top;\n    }\n\n    .dataframe thead th {\n        text-align: right;\n    }\n</style>\n<table border=\"1\" class=\"dataframe\">\n  <thead>\n    <tr style=\"text-align: right;\">\n      <th></th>\n      <th>name</th>\n      <th>platform</th>\n      <th>year_of_release</th>\n      <th>genre</th>\n      <th>na_sales</th>\n      <th>eu_sales</th>\n      <th>jp_sales</th>\n      <th>other_sales</th>\n      <th>critic_score</th>\n      <th>user_score</th>\n      <th>rating</th>\n    </tr>\n  </thead>\n  <tbody>\n    <tr>\n      <th>0</th>\n      <td>Wii Sports</td>\n      <td>Wii</td>\n      <td>2006</td>\n      <td>Sports</td>\n      <td>41.36</td>\n      <td>28.96</td>\n      <td>3.77</td>\n      <td>8.45</td>\n      <td>76.0</td>\n      <td>80.0</td>\n      <td>E</td>\n    </tr>\n    <tr>\n      <th>1</th>\n      <td>Super Mario Bros.</td>\n      <td>NES</td>\n      <td>1985</td>\n      <td>Platform</td>\n      <td>29.08</td>\n      <td>3.58</td>\n      <td>6.81</td>\n      <td>0.77</td>\n      <td>NaN</td>\n      <td>NaN</td>\n      <td>NaN</td>\n    </tr>\n    <tr>\n      <th>2</th>\n      <td>Mario Kart Wii</td>\n      <td>Wii</td>\n      <td>2008</td>\n      <td>Racing</td>\n      <td>15.68</td>\n      <td>12.76</td>\n      <td>3.79</td>\n      <td>3.29</td>\n      <td>82.0</td>\n      <td>83.0</td>\n      <td>E</td>\n    </tr>\n    <tr>\n      <th>3</th>\n      <td>Wii Sports Resort</td>\n      <td>Wii</td>\n      <td>2009</td>\n      <td>Sports</td>\n      <td>15.61</td>\n      <td>10.93</td>\n      <td>3.28</td>\n      <td>2.95</td>\n      <td>80.0</td>\n      <td>80.0</td>\n      <td>E</td>\n    </tr>\n    <tr>\n      <th>4</th>\n      <td>Pokemon Red/Pokemon Blue</td>\n      <td>GB</td>\n      <td>1996</td>\n      <td>Role-Playing</td>\n      <td>11.27</td>\n      <td>8.89</td>\n      <td>10.22</td>\n      <td>1.00</td>\n      <td>NaN</td>\n      <td>NaN</td>\n      <td>NaN</td>\n    </tr>\n  </tbody>\n</table>\n</div>"
     },
     "execution_count": 14,
     "metadata": {},
     "output_type": "execute_result"
    }
   ],
   "source": [
    "data.head()"
   ],
   "metadata": {
    "collapsed": false,
    "ExecuteTime": {
     "end_time": "2024-02-24T21:35:53.871067Z",
     "start_time": "2024-02-24T21:35:53.859489Z"
    }
   },
   "execution_count": 14
  },
  {
   "cell_type": "markdown",
   "source": [
    "#### Вывод по исправлению типов данных\n",
    "\n",
    "Я заменил значение 'tbd' в столбце `user_score` на пропуски, исправил тип данных на float и привёл максимальный балл в столбце `user_score` к 100.\n",
    "Также я привёл тип данных в столбце `year_of_release` к целочисленному типу."
   ],
   "metadata": {
    "collapsed": false
   }
  },
  {
   "cell_type": "markdown",
   "source": [
    "### Обработка пропусков"
   ],
   "metadata": {
    "collapsed": false
   }
  },
  {
   "cell_type": "markdown",
   "source": [
    "Проверю на наличие явных дубликатов."
   ],
   "metadata": {
    "collapsed": false
   }
  },
  {
   "cell_type": "code",
   "outputs": [
    {
     "data": {
      "text/plain": "0"
     },
     "execution_count": 15,
     "metadata": {},
     "output_type": "execute_result"
    }
   ],
   "source": [
    "data.duplicated().sum()"
   ],
   "metadata": {
    "collapsed": false,
    "ExecuteTime": {
     "end_time": "2024-02-24T21:35:53.883141Z",
     "start_time": "2024-02-24T21:35:53.871712Z"
    }
   },
   "execution_count": 15
  },
  {
   "cell_type": "markdown",
   "source": [
    "Определю, сколько пропусков в каждом столбце."
   ],
   "metadata": {
    "collapsed": false
   }
  },
  {
   "cell_type": "code",
   "outputs": [],
   "source": [
    "# Создам функцию для определения пропусков, чтобы не писать одно и то же несколько раз\n",
    "def missing_values(data_with_na):\n",
    "    return pd.DataFrame(data_with_na.isna().mean() * 100).style.format(\"{:.2f}%\").background_gradient('coolwarm')"
   ],
   "metadata": {
    "collapsed": false,
    "ExecuteTime": {
     "end_time": "2024-02-24T21:35:53.886024Z",
     "start_time": "2024-02-24T21:35:53.883939Z"
    }
   },
   "execution_count": 16
  },
  {
   "cell_type": "code",
   "outputs": [
    {
     "data": {
      "text/plain": "<pandas.io.formats.style.Styler at 0x7f9134cdafd0>",
      "text/html": "<style type=\"text/css\">\n#T_00202_row0_col0, #T_00202_row1_col0, #T_00202_row3_col0, #T_00202_row4_col0, #T_00202_row5_col0, #T_00202_row6_col0, #T_00202_row7_col0 {\n  background-color: #3b4cc0;\n  color: #f1f1f1;\n}\n#T_00202_row2_col0 {\n  background-color: #4358cb;\n  color: #f1f1f1;\n}\n#T_00202_row8_col0 {\n  background-color: #ca3b37;\n  color: #f1f1f1;\n}\n#T_00202_row9_col0 {\n  background-color: #b40426;\n  color: #f1f1f1;\n}\n#T_00202_row10_col0 {\n  background-color: #f59d7e;\n  color: #000000;\n}\n</style>\n<table id=\"T_00202\">\n  <thead>\n    <tr>\n      <th class=\"blank level0\" >&nbsp;</th>\n      <th id=\"T_00202_level0_col0\" class=\"col_heading level0 col0\" >0</th>\n    </tr>\n  </thead>\n  <tbody>\n    <tr>\n      <th id=\"T_00202_level0_row0\" class=\"row_heading level0 row0\" >name</th>\n      <td id=\"T_00202_row0_col0\" class=\"data row0 col0\" >0.01%</td>\n    </tr>\n    <tr>\n      <th id=\"T_00202_level0_row1\" class=\"row_heading level0 row1\" >platform</th>\n      <td id=\"T_00202_row1_col0\" class=\"data row1 col0\" >0.00%</td>\n    </tr>\n    <tr>\n      <th id=\"T_00202_level0_row2\" class=\"row_heading level0 row2\" >year_of_release</th>\n      <td id=\"T_00202_row2_col0\" class=\"data row2 col0\" >1.61%</td>\n    </tr>\n    <tr>\n      <th id=\"T_00202_level0_row3\" class=\"row_heading level0 row3\" >genre</th>\n      <td id=\"T_00202_row3_col0\" class=\"data row3 col0\" >0.01%</td>\n    </tr>\n    <tr>\n      <th id=\"T_00202_level0_row4\" class=\"row_heading level0 row4\" >na_sales</th>\n      <td id=\"T_00202_row4_col0\" class=\"data row4 col0\" >0.00%</td>\n    </tr>\n    <tr>\n      <th id=\"T_00202_level0_row5\" class=\"row_heading level0 row5\" >eu_sales</th>\n      <td id=\"T_00202_row5_col0\" class=\"data row5 col0\" >0.00%</td>\n    </tr>\n    <tr>\n      <th id=\"T_00202_level0_row6\" class=\"row_heading level0 row6\" >jp_sales</th>\n      <td id=\"T_00202_row6_col0\" class=\"data row6 col0\" >0.00%</td>\n    </tr>\n    <tr>\n      <th id=\"T_00202_level0_row7\" class=\"row_heading level0 row7\" >other_sales</th>\n      <td id=\"T_00202_row7_col0\" class=\"data row7 col0\" >0.00%</td>\n    </tr>\n    <tr>\n      <th id=\"T_00202_level0_row8\" class=\"row_heading level0 row8\" >critic_score</th>\n      <td id=\"T_00202_row8_col0\" class=\"data row8 col0\" >51.32%</td>\n    </tr>\n    <tr>\n      <th id=\"T_00202_level0_row9\" class=\"row_heading level0 row9\" >user_score</th>\n      <td id=\"T_00202_row9_col0\" class=\"data row9 col0\" >54.59%</td>\n    </tr>\n    <tr>\n      <th id=\"T_00202_level0_row10\" class=\"row_heading level0 row10\" >rating</th>\n      <td id=\"T_00202_row10_col0\" class=\"data row10 col0\" >40.48%</td>\n    </tr>\n  </tbody>\n</table>\n"
     },
     "execution_count": 17,
     "metadata": {},
     "output_type": "execute_result"
    }
   ],
   "source": [
    "missing_values(data)"
   ],
   "metadata": {
    "collapsed": false,
    "ExecuteTime": {
     "end_time": "2024-02-24T21:35:53.926946Z",
     "start_time": "2024-02-24T21:35:53.886806Z"
    }
   },
   "execution_count": 17
  },
  {
   "cell_type": "markdown",
   "source": [
    "В столбцах name, year_of_release и genre есть небольшое количество пропусков - 0.01%, 1.61% и 0.01% соответственно.\n",
    "В целом, их можно удалить ничего сильно от этого не изменится.\n",
    "В critic_score, user_score, rating пропусков уже больше - 51.32%, 54.59% и 40.48% соответственно.\n",
    "Удалять их уже нельзя, так как это большая часть данных. Нужно будет посмотреть на данные детально, чтобы понять, что с ними можно сделать."
   ],
   "metadata": {
    "collapsed": false
   }
  },
  {
   "cell_type": "markdown",
   "source": [
    "Удалю пропуски в столбцах name, year_of_release и genre."
   ],
   "metadata": {
    "collapsed": false
   }
  },
  {
   "cell_type": "code",
   "outputs": [],
   "source": [
    "data = data.dropna(subset=['name', 'year_of_release', 'genre'])"
   ],
   "metadata": {
    "collapsed": false,
    "ExecuteTime": {
     "end_time": "2024-02-24T21:35:53.932673Z",
     "start_time": "2024-02-24T21:35:53.927752Z"
    }
   },
   "execution_count": 18
  },
  {
   "cell_type": "markdown",
   "source": [
    "Заполню пропуски в critic_score медианным значением рейтинга критиков по каждой игре."
   ],
   "metadata": {
    "collapsed": false
   }
  },
  {
   "cell_type": "code",
   "outputs": [],
   "source": [
    "data['critic_score'] = data['critic_score'].fillna(data.groupby('name')['critic_score'].transform('median'))"
   ],
   "metadata": {
    "collapsed": false,
    "ExecuteTime": {
     "end_time": "2024-02-24T21:35:53.943666Z",
     "start_time": "2024-02-24T21:35:53.933462Z"
    }
   },
   "execution_count": 19
  },
  {
   "cell_type": "markdown",
   "source": [
    "Пропуски в user_score также заполню медианным значением рейтинга пользователей по каждой игре."
   ],
   "metadata": {
    "collapsed": false
   }
  },
  {
   "cell_type": "code",
   "outputs": [],
   "source": [
    "data['user_score'] = data['user_score'].fillna(data.groupby('name')['user_score'].transform('median'))"
   ],
   "metadata": {
    "collapsed": false,
    "ExecuteTime": {
     "end_time": "2024-02-24T21:35:53.953330Z",
     "start_time": "2024-02-24T21:35:53.944376Z"
    }
   },
   "execution_count": 20
  },
  {
   "cell_type": "markdown",
   "source": [
    "Посмотрю на уникальные значения в столбце rating."
   ],
   "metadata": {
    "collapsed": false
   }
  },
  {
   "cell_type": "code",
   "outputs": [
    {
     "data": {
      "text/plain": "array(['E', nan, 'M', 'T', 'E10+', 'K-A', 'AO', 'EC', 'RP'], dtype=object)"
     },
     "execution_count": 21,
     "metadata": {},
     "output_type": "execute_result"
    }
   ],
   "source": [
    "data['rating'].unique()"
   ],
   "metadata": {
    "collapsed": false,
    "ExecuteTime": {
     "end_time": "2024-02-24T21:35:53.957123Z",
     "start_time": "2024-02-24T21:35:53.954061Z"
    }
   },
   "execution_count": 21
  },
  {
   "cell_type": "markdown",
   "source": [
    "В столбце `rating` есть значение рейтинга ESRB за разные годы, того же K-A сейчас уже нет.\n",
    "Также встречается значение 'RP', которое означает \"Rating Pending\" - \"рейтинг ожидается\".\n",
    "Это значение означает, что у игры нет рейтинга, но он будет определён в будущем.\n",
    "\n",
    "Момент в том, что ESRB - система оценки игр для продажи в Северной Америке, у Европы и Японии свои системы оценки - PEGI и CERO соответственно. Логично будет проверить - продавались ли игры без рейтинга в США, прежде чем заполнять пропуски в столбце rating."
   ],
   "metadata": {
    "collapsed": false
   }
  },
  {
   "cell_type": "markdown",
   "source": [
    "Найдём те игры, у которых нет рейтинга ESRB и они не продевались в Северной Америке."
   ],
   "metadata": {
    "collapsed": false
   }
  },
  {
   "cell_type": "code",
   "outputs": [
    {
     "data": {
      "text/plain": "3688"
     },
     "execution_count": 22,
     "metadata": {},
     "output_type": "execute_result"
    }
   ],
   "source": [
    "without_rating_and_sales_in_na = data.query('rating.isna() and na_sales == 0')\n",
    "without_rating_and_sales_in_na.shape[0]"
   ],
   "metadata": {
    "collapsed": false,
    "ExecuteTime": {
     "end_time": "2024-02-24T21:35:53.965616Z",
     "start_time": "2024-02-24T21:35:53.957791Z"
    }
   },
   "execution_count": 22
  },
  {
   "cell_type": "markdown",
   "source": [
    "Проверим есть ли среди этих игр те, которые продавались в Европе, Японии и других странах."
   ],
   "metadata": {
    "collapsed": false
   }
  },
  {
   "cell_type": "code",
   "outputs": [
    {
     "data": {
      "text/plain": "3686"
     },
     "execution_count": 23,
     "metadata": {},
     "output_type": "execute_result"
    }
   ],
   "source": [
    "without_rating_and_sales_in_na.query('eu_sales > 0 or jp_sales > 0 or other_sales > 0').shape[0]"
   ],
   "metadata": {
    "collapsed": false,
    "ExecuteTime": {
     "end_time": "2024-02-24T21:35:53.974923Z",
     "start_time": "2024-02-24T21:35:53.966226Z"
    }
   },
   "execution_count": 23
  },
  {
   "cell_type": "markdown",
   "source": [
    "Как видим, у нас есть игры, которые не продавались в Северной Америке и при этом продавались в Европе, Японии и других странах.\n",
    "Поэтому у данных игр и нет рейтинга ESRB. При этом у нас ещё есть 2 игры, которые не продавались нигде, поэтому у них и нет рейтинга.\n",
    "\n",
    "Заполним пропуски в столбце rating, для игры, которые не продавались на территории NA - значением \"unknown\"."
   ],
   "metadata": {
    "collapsed": false
   }
  },
  {
   "cell_type": "code",
   "outputs": [],
   "source": [
    "data.loc[without_rating_and_sales_in_na.index, 'rating'] = 'unknown'"
   ],
   "metadata": {
    "collapsed": false,
    "ExecuteTime": {
     "end_time": "2024-02-24T21:35:53.979020Z",
     "start_time": "2024-02-24T21:35:53.975529Z"
    }
   },
   "execution_count": 24
  },
  {
   "cell_type": "markdown",
   "source": [
    "Проверю, что больше пропусков в столбце rating для игр, которые не продавались на территории США - нет."
   ],
   "metadata": {
    "collapsed": false
   }
  },
  {
   "cell_type": "code",
   "outputs": [
    {
     "data": {
      "text/plain": "0"
     },
     "execution_count": 25,
     "metadata": {},
     "output_type": "execute_result"
    }
   ],
   "source": [
    "data.query('rating.isna() and na_sales == 0').shape[0]"
   ],
   "metadata": {
    "collapsed": false,
    "ExecuteTime": {
     "end_time": "2024-02-24T21:35:53.986337Z",
     "start_time": "2024-02-24T21:35:53.979632Z"
    }
   },
   "execution_count": 25
  },
  {
   "cell_type": "markdown",
   "source": [
    "Проверю в какие года выходили игры без рейтинга, возможно они выходили до 1994 года (года основания ESRB) и эти игры не оценивались."
   ],
   "metadata": {
    "collapsed": false
   }
  },
  {
   "cell_type": "code",
   "outputs": [
    {
     "data": {
      "text/plain": "year_of_release\n2008    1427\n2009    1426\n2010    1255\n2007    1197\n2011    1136\n2006    1006\n2005     939\n2002     829\n2003     775\n2004     762\n2012     653\n2015     606\n2014     581\n2013     544\n2016     502\n2001     482\n1998     379\n2000     350\n1999     338\n1997     289\n1996     263\n1995     219\n1994     121\n1993      60\n1981      46\n1992      43\n1991      41\n1982      36\n1986      21\n1989      17\n1983      17\n1990      16\n1987      16\n1988      15\n1985      14\n1984      14\n1980       9\nName: count, dtype: Int64"
     },
     "execution_count": 26,
     "metadata": {},
     "output_type": "execute_result"
    }
   ],
   "source": [
    "data['year_of_release'].value_counts()"
   ],
   "metadata": {
    "collapsed": false,
    "ExecuteTime": {
     "end_time": "2024-02-24T21:35:53.992651Z",
     "start_time": "2024-02-24T21:35:53.987200Z"
    }
   },
   "execution_count": 26
  },
  {
   "cell_type": "markdown",
   "source": [
    "Какой-то зависимости в пропусках в рейтинге от года выхода игры не видно. Также вряд-ли, игры, которые вышли гораздо раньше, до сих пор ждут своего рейтинга.\n",
    "Поэтому остальные пропуски в столбце `rating` также заполню значением \"unknown\", а не \"RP\"."
   ],
   "metadata": {
    "collapsed": false
   }
  },
  {
   "cell_type": "code",
   "outputs": [],
   "source": [
    "data['rating'] = data['rating'].fillna('unknown')"
   ],
   "metadata": {
    "collapsed": false,
    "ExecuteTime": {
     "end_time": "2024-02-24T21:35:53.999603Z",
     "start_time": "2024-02-24T21:35:53.993396Z"
    }
   },
   "execution_count": 27
  },
  {
   "cell_type": "markdown",
   "source": [
    "Посмотрю на итоговое количество пропусков в датафрейме, после всех манипуляций."
   ],
   "metadata": {
    "collapsed": false
   }
  },
  {
   "cell_type": "code",
   "outputs": [
    {
     "data": {
      "text/plain": "<pandas.io.formats.style.Styler at 0x7f91321e3390>",
      "text/html": "<style type=\"text/css\">\n#T_f6b7f_row0_col0, #T_f6b7f_row1_col0, #T_f6b7f_row2_col0, #T_f6b7f_row3_col0, #T_f6b7f_row4_col0, #T_f6b7f_row5_col0, #T_f6b7f_row6_col0, #T_f6b7f_row7_col0, #T_f6b7f_row10_col0 {\n  background-color: #3b4cc0;\n  color: #f1f1f1;\n}\n#T_f6b7f_row8_col0 {\n  background-color: #c53334;\n  color: #f1f1f1;\n}\n#T_f6b7f_row9_col0 {\n  background-color: #b40426;\n  color: #f1f1f1;\n}\n</style>\n<table id=\"T_f6b7f\">\n  <thead>\n    <tr>\n      <th class=\"blank level0\" >&nbsp;</th>\n      <th id=\"T_f6b7f_level0_col0\" class=\"col_heading level0 col0\" >0</th>\n    </tr>\n  </thead>\n  <tbody>\n    <tr>\n      <th id=\"T_f6b7f_level0_row0\" class=\"row_heading level0 row0\" >name</th>\n      <td id=\"T_f6b7f_row0_col0\" class=\"data row0 col0\" >0.00%</td>\n    </tr>\n    <tr>\n      <th id=\"T_f6b7f_level0_row1\" class=\"row_heading level0 row1\" >platform</th>\n      <td id=\"T_f6b7f_row1_col0\" class=\"data row1 col0\" >0.00%</td>\n    </tr>\n    <tr>\n      <th id=\"T_f6b7f_level0_row2\" class=\"row_heading level0 row2\" >year_of_release</th>\n      <td id=\"T_f6b7f_row2_col0\" class=\"data row2 col0\" >0.00%</td>\n    </tr>\n    <tr>\n      <th id=\"T_f6b7f_level0_row3\" class=\"row_heading level0 row3\" >genre</th>\n      <td id=\"T_f6b7f_row3_col0\" class=\"data row3 col0\" >0.00%</td>\n    </tr>\n    <tr>\n      <th id=\"T_f6b7f_level0_row4\" class=\"row_heading level0 row4\" >na_sales</th>\n      <td id=\"T_f6b7f_row4_col0\" class=\"data row4 col0\" >0.00%</td>\n    </tr>\n    <tr>\n      <th id=\"T_f6b7f_level0_row5\" class=\"row_heading level0 row5\" >eu_sales</th>\n      <td id=\"T_f6b7f_row5_col0\" class=\"data row5 col0\" >0.00%</td>\n    </tr>\n    <tr>\n      <th id=\"T_f6b7f_level0_row6\" class=\"row_heading level0 row6\" >jp_sales</th>\n      <td id=\"T_f6b7f_row6_col0\" class=\"data row6 col0\" >0.00%</td>\n    </tr>\n    <tr>\n      <th id=\"T_f6b7f_level0_row7\" class=\"row_heading level0 row7\" >other_sales</th>\n      <td id=\"T_f6b7f_row7_col0\" class=\"data row7 col0\" >0.00%</td>\n    </tr>\n    <tr>\n      <th id=\"T_f6b7f_level0_row8\" class=\"row_heading level0 row8\" >critic_score</th>\n      <td id=\"T_f6b7f_row8_col0\" class=\"data row8 col0\" >45.74%</td>\n    </tr>\n    <tr>\n      <th id=\"T_f6b7f_level0_row9\" class=\"row_heading level0 row9\" >user_score</th>\n      <td id=\"T_f6b7f_row9_col0\" class=\"data row9 col0\" >48.16%</td>\n    </tr>\n    <tr>\n      <th id=\"T_f6b7f_level0_row10\" class=\"row_heading level0 row10\" >rating</th>\n      <td id=\"T_f6b7f_row10_col0\" class=\"data row10 col0\" >0.00%</td>\n    </tr>\n  </tbody>\n</table>\n"
     },
     "execution_count": 28,
     "metadata": {},
     "output_type": "execute_result"
    }
   ],
   "source": [
    "missing_values(data)"
   ],
   "metadata": {
    "collapsed": false,
    "ExecuteTime": {
     "end_time": "2024-02-24T21:35:54.012744Z",
     "start_time": "2024-02-24T21:35:54.002846Z"
    }
   },
   "execution_count": 28
  },
  {
   "cell_type": "markdown",
   "source": [
    "#### Вывод по обработке пропусков\n",
    "<a name=\"filling-the-blanks\"></a>\n",
    "Удалил строки, где были пропуски в столбцах name, year_of_release и genre - 0.01%, 1.61% и 0.01% соответственно. Это небольшое количество пропусков и их удаление не повлияет на результаты анализа, но позволит избежать проблем в дальнейшем.\n",
    "\n",
    "Доля пропусков в `critic_score` уменьшилась на \\~6% и составляет 45.74%.\n",
    "Пропусков в столбце `user_score` тоже стало на \\~6% меньше и составляет 48.16%.\n",
    "Пропусков для `critic_score` и `user_score` много.\n",
    "Скорее всего это означает, что для остальных игр нет данных об оценки от пользователей или от критиков.\n",
    "Больше информации сможем узнать уже при анализе данных.\n",
    "Больше сделать с этими данными нечего, так как удалять их точно нельзя.\n",
    "\n",
    "Все пропуски в столбце `rating` заполнил значением \"unknown\". Часть пропусков скорее всего из-за того, что игры не продавались в Северной Америке. Из-за чего не оценивались остальные игры - определить сложно. Видимо данные по возрастному рейтингу брались только из данных ESRB, поэтому остальные игры остались без рейтинга. При составлении датасета нужно было учитывать, что ESRB оценивает игры, которые продаются в Северной Америке, а не во всём мире, для той же Европы есть PEGI, а для Японии CERO.\n",
    "\n",
    "Скорее всего, если опираться на то, что в столбце `rating` есть данные только про Северную Америку, то возможно пропуски в оценках от пользователей и от критиков связаны с тем, что данные брались только с какой-нибудь североамериканской площадки. Поэтому у нас такое большое количество пропусков в столбцах `user_score` и `critic_score`.\n"
   ],
   "metadata": {
    "collapsed": false
   }
  },
  {
   "cell_type": "markdown",
   "source": [
    "### Поверим на наличие неявных дубликатов"
   ],
   "metadata": {
    "collapsed": false
   }
  },
  {
   "cell_type": "markdown",
   "source": [
    "Проверю есть ли дубликаты в рамках `name`, `platform` и `year_of_release`."
   ],
   "metadata": {
    "collapsed": false
   }
  },
  {
   "cell_type": "code",
   "outputs": [
    {
     "data": {
      "text/plain": "1"
     },
     "execution_count": 29,
     "metadata": {},
     "output_type": "execute_result"
    }
   ],
   "source": [
    "data.duplicated(subset=['name', 'platform', 'year_of_release']).sum()"
   ],
   "metadata": {
    "collapsed": false,
    "ExecuteTime": {
     "end_time": "2024-02-24T21:35:54.019154Z",
     "start_time": "2024-02-24T21:35:54.013414Z"
    }
   },
   "execution_count": 29
  },
  {
   "cell_type": "markdown",
   "source": [
    "Такой дубликат всего один, посмотрю на него."
   ],
   "metadata": {
    "collapsed": false
   }
  },
  {
   "cell_type": "code",
   "outputs": [
    {
     "data": {
      "text/plain": "                name platform  year_of_release   genre  na_sales  eu_sales  \\\n16230  Madden NFL 13      PS3             2012  Sports       0.0      0.01   \n\n       jp_sales  other_sales  critic_score  user_score rating  \n16230       0.0          0.0          83.0        55.0      E  ",
      "text/html": "<div>\n<style scoped>\n    .dataframe tbody tr th:only-of-type {\n        vertical-align: middle;\n    }\n\n    .dataframe tbody tr th {\n        vertical-align: top;\n    }\n\n    .dataframe thead th {\n        text-align: right;\n    }\n</style>\n<table border=\"1\" class=\"dataframe\">\n  <thead>\n    <tr style=\"text-align: right;\">\n      <th></th>\n      <th>name</th>\n      <th>platform</th>\n      <th>year_of_release</th>\n      <th>genre</th>\n      <th>na_sales</th>\n      <th>eu_sales</th>\n      <th>jp_sales</th>\n      <th>other_sales</th>\n      <th>critic_score</th>\n      <th>user_score</th>\n      <th>rating</th>\n    </tr>\n  </thead>\n  <tbody>\n    <tr>\n      <th>16230</th>\n      <td>Madden NFL 13</td>\n      <td>PS3</td>\n      <td>2012</td>\n      <td>Sports</td>\n      <td>0.0</td>\n      <td>0.01</td>\n      <td>0.0</td>\n      <td>0.0</td>\n      <td>83.0</td>\n      <td>55.0</td>\n      <td>E</td>\n    </tr>\n  </tbody>\n</table>\n</div>"
     },
     "execution_count": 30,
     "metadata": {},
     "output_type": "execute_result"
    }
   ],
   "source": [
    "data[data.duplicated(subset=['name', 'platform', 'year_of_release'])]"
   ],
   "metadata": {
    "collapsed": false,
    "ExecuteTime": {
     "end_time": "2024-02-24T21:35:54.030695Z",
     "start_time": "2024-02-24T21:35:54.019740Z"
    }
   },
   "execution_count": 30
  },
  {
   "cell_type": "markdown",
   "source": [
    "Продаж у этой игры почти нет, поэтому проще её удалить."
   ],
   "metadata": {
    "collapsed": false
   }
  },
  {
   "cell_type": "code",
   "outputs": [],
   "source": [
    "data = data.drop_duplicates(subset=['name', 'platform', 'year_of_release'])"
   ],
   "metadata": {
    "collapsed": false,
    "ExecuteTime": {
     "end_time": "2024-02-24T21:35:54.037021Z",
     "start_time": "2024-02-24T21:35:54.031303Z"
    }
   },
   "execution_count": 31
  },
  {
   "cell_type": "markdown",
   "source": [
    "Посмотрю на уникальные значения в столбце `platform`."
   ],
   "metadata": {
    "collapsed": false
   }
  },
  {
   "cell_type": "code",
   "outputs": [
    {
     "data": {
      "text/plain": "array(['Wii', 'NES', 'GB', 'DS', 'X360', 'PS3', 'PS2', 'SNES', 'GBA',\n       'PS4', '3DS', 'N64', 'PS', 'XB', 'PC', '2600', 'PSP', 'XOne',\n       'WiiU', 'GC', 'GEN', 'DC', 'PSV', 'SAT', 'SCD', 'WS', 'NG', 'TG16',\n       '3DO', 'GG', 'PCFX'], dtype=object)"
     },
     "execution_count": 32,
     "metadata": {},
     "output_type": "execute_result"
    }
   ],
   "source": [
    "data['platform'].unique()"
   ],
   "metadata": {
    "collapsed": false,
    "ExecuteTime": {
     "end_time": "2024-02-24T21:35:54.048354Z",
     "start_time": "2024-02-24T21:35:54.044678Z"
    }
   },
   "execution_count": 32
  },
  {
   "cell_type": "markdown",
   "source": [
    "В `platform` неявных дубликатов нет."
   ],
   "metadata": {
    "collapsed": false
   }
  },
  {
   "cell_type": "markdown",
   "source": [
    "Посмотрю на уникальные значения в столбце `genre`."
   ],
   "metadata": {
    "collapsed": false
   }
  },
  {
   "cell_type": "code",
   "outputs": [
    {
     "data": {
      "text/plain": "array(['Sports', 'Platform', 'Racing', 'Role-Playing', 'Puzzle', 'Misc',\n       'Shooter', 'Simulation', 'Action', 'Fighting', 'Adventure',\n       'Strategy'], dtype=object)"
     },
     "execution_count": 33,
     "metadata": {},
     "output_type": "execute_result"
    }
   ],
   "source": [
    "data['genre'].unique()"
   ],
   "metadata": {
    "collapsed": false,
    "ExecuteTime": {
     "end_time": "2024-02-24T21:35:54.066921Z",
     "start_time": "2024-02-24T21:35:54.062642Z"
    }
   },
   "execution_count": 33
  },
  {
   "cell_type": "markdown",
   "source": [
    "В `genre` тоже неявных дубликатов нет."
   ],
   "metadata": {
    "collapsed": false
   }
  },
  {
   "cell_type": "markdown",
   "source": [
    "Приведу `name` к нижнему регистру и проверю есть ли дубликаты в рамках `name`, `platform` и `year_of_release`."
   ],
   "metadata": {
    "collapsed": false
   }
  },
  {
   "cell_type": "code",
   "outputs": [
    {
     "data": {
      "text/plain": "0"
     },
     "execution_count": 34,
     "metadata": {},
     "output_type": "execute_result"
    }
   ],
   "source": [
    "data_copy = data.copy()\n",
    "data_copy['name'] = data_copy['name'].str.lower()\n",
    "data_copy.duplicated(subset=['name', 'platform', 'year_of_release']).sum()"
   ],
   "metadata": {
    "collapsed": false,
    "ExecuteTime": {
     "end_time": "2024-02-24T21:35:54.170979Z",
     "start_time": "2024-02-24T21:35:54.159427Z"
    }
   },
   "execution_count": 34
  },
  {
   "cell_type": "markdown",
   "source": [
    "Посмотрим сколько уникальных названий игры в датафрейме."
   ],
   "metadata": {
    "collapsed": false
   }
  },
  {
   "cell_type": "code",
   "outputs": [
    {
     "data": {
      "text/plain": "11426"
     },
     "execution_count": 35,
     "metadata": {},
     "output_type": "execute_result"
    }
   ],
   "source": [
    "data_copy['name'].nunique()"
   ],
   "metadata": {
    "collapsed": false,
    "ExecuteTime": {
     "end_time": "2024-02-24T21:35:54.385619Z",
     "start_time": "2024-02-24T21:35:54.380940Z"
    }
   },
   "execution_count": 35
  },
  {
   "cell_type": "markdown",
   "source": [
    "Уникальных названий 11426 строк, искать среди них что-то вручную глазами - не вариант."
   ],
   "metadata": {
    "collapsed": false
   }
  },
  {
   "cell_type": "markdown",
   "source": [
    "#### Вывод по неявным дубликатам\n",
    "\n",
    "Дубликат был обнаружен только один, из-за того, что данные по продажам у этой игры были почти нулевые, я его удалил."
   ],
   "metadata": {
    "collapsed": false
   }
  },
  {
   "cell_type": "markdown",
   "source": [
    "### Добавление необходимых столбцов"
   ],
   "metadata": {
    "collapsed": false
   }
  },
  {
   "cell_type": "markdown",
   "source": [
    "Добавлю столбец с суммарными продажами по всем регионам."
   ],
   "metadata": {
    "collapsed": false
   }
  },
  {
   "cell_type": "code",
   "outputs": [],
   "source": [
    "data['total_sales'] = data['na_sales'] + data['eu_sales'] + data['jp_sales'] + data['other_sales']"
   ],
   "metadata": {
    "collapsed": false,
    "ExecuteTime": {
     "end_time": "2024-02-24T21:35:54.488797Z",
     "start_time": "2024-02-24T21:35:54.485178Z"
    }
   },
   "execution_count": 36
  },
  {
   "cell_type": "markdown",
   "source": [
    "Посмотрю на итоговый датафрейм."
   ],
   "metadata": {
    "collapsed": false
   }
  },
  {
   "cell_type": "code",
   "outputs": [
    {
     "data": {
      "text/plain": "                       name platform  year_of_release         genre  na_sales  \\\n0                Wii Sports      Wii             2006        Sports     41.36   \n1         Super Mario Bros.      NES             1985      Platform     29.08   \n2            Mario Kart Wii      Wii             2008        Racing     15.68   \n3         Wii Sports Resort      Wii             2009        Sports     15.61   \n4  Pokemon Red/Pokemon Blue       GB             1996  Role-Playing     11.27   \n\n   eu_sales  jp_sales  other_sales  critic_score  user_score   rating  \\\n0     28.96      3.77         8.45          76.0        80.0        E   \n1      3.58      6.81         0.77           NaN         NaN  unknown   \n2     12.76      3.79         3.29          82.0        83.0        E   \n3     10.93      3.28         2.95          80.0        80.0        E   \n4      8.89     10.22         1.00           NaN         NaN  unknown   \n\n   total_sales  \n0        82.54  \n1        40.24  \n2        35.52  \n3        32.77  \n4        31.38  ",
      "text/html": "<div>\n<style scoped>\n    .dataframe tbody tr th:only-of-type {\n        vertical-align: middle;\n    }\n\n    .dataframe tbody tr th {\n        vertical-align: top;\n    }\n\n    .dataframe thead th {\n        text-align: right;\n    }\n</style>\n<table border=\"1\" class=\"dataframe\">\n  <thead>\n    <tr style=\"text-align: right;\">\n      <th></th>\n      <th>name</th>\n      <th>platform</th>\n      <th>year_of_release</th>\n      <th>genre</th>\n      <th>na_sales</th>\n      <th>eu_sales</th>\n      <th>jp_sales</th>\n      <th>other_sales</th>\n      <th>critic_score</th>\n      <th>user_score</th>\n      <th>rating</th>\n      <th>total_sales</th>\n    </tr>\n  </thead>\n  <tbody>\n    <tr>\n      <th>0</th>\n      <td>Wii Sports</td>\n      <td>Wii</td>\n      <td>2006</td>\n      <td>Sports</td>\n      <td>41.36</td>\n      <td>28.96</td>\n      <td>3.77</td>\n      <td>8.45</td>\n      <td>76.0</td>\n      <td>80.0</td>\n      <td>E</td>\n      <td>82.54</td>\n    </tr>\n    <tr>\n      <th>1</th>\n      <td>Super Mario Bros.</td>\n      <td>NES</td>\n      <td>1985</td>\n      <td>Platform</td>\n      <td>29.08</td>\n      <td>3.58</td>\n      <td>6.81</td>\n      <td>0.77</td>\n      <td>NaN</td>\n      <td>NaN</td>\n      <td>unknown</td>\n      <td>40.24</td>\n    </tr>\n    <tr>\n      <th>2</th>\n      <td>Mario Kart Wii</td>\n      <td>Wii</td>\n      <td>2008</td>\n      <td>Racing</td>\n      <td>15.68</td>\n      <td>12.76</td>\n      <td>3.79</td>\n      <td>3.29</td>\n      <td>82.0</td>\n      <td>83.0</td>\n      <td>E</td>\n      <td>35.52</td>\n    </tr>\n    <tr>\n      <th>3</th>\n      <td>Wii Sports Resort</td>\n      <td>Wii</td>\n      <td>2009</td>\n      <td>Sports</td>\n      <td>15.61</td>\n      <td>10.93</td>\n      <td>3.28</td>\n      <td>2.95</td>\n      <td>80.0</td>\n      <td>80.0</td>\n      <td>E</td>\n      <td>32.77</td>\n    </tr>\n    <tr>\n      <th>4</th>\n      <td>Pokemon Red/Pokemon Blue</td>\n      <td>GB</td>\n      <td>1996</td>\n      <td>Role-Playing</td>\n      <td>11.27</td>\n      <td>8.89</td>\n      <td>10.22</td>\n      <td>1.00</td>\n      <td>NaN</td>\n      <td>NaN</td>\n      <td>unknown</td>\n      <td>31.38</td>\n    </tr>\n  </tbody>\n</table>\n</div>"
     },
     "execution_count": 37,
     "metadata": {},
     "output_type": "execute_result"
    }
   ],
   "source": [
    "data.head()"
   ],
   "metadata": {
    "collapsed": false,
    "ExecuteTime": {
     "end_time": "2024-02-24T21:35:54.592218Z",
     "start_time": "2024-02-24T21:35:54.582747Z"
    }
   },
   "execution_count": 37
  },
  {
   "cell_type": "markdown",
   "source": [
    "### Вывод по предобработке данных\n",
    "\n",
    "Была проведена следующая работа по предобработке данных:\n",
    "- Я привёл названия столбцов к стандарту snake_case\n",
    "- Преобразовал тип данных в столбце `year_of_release` к целочисленному типу, заменил значение 'tbd' в столбце `user_score` на пропуски, исправил тип данных в `user_score` на числовой тип, привёл максимальный балл в столбце `user_score` к 100.\n",
    "- Заполнил пропуски в `critic_score` и `user_score` медианным значением рейтинга критиков и пользователей по каждой игре, заполнил пропуски в столбце `rating` значением \"unknown\".\n",
    "- Удалил явный дубликат\n",
    "- Добавил столбец с суммарными продажами по всем регионам.\n",
    "\n",
    "Подробнее про *обработку пропусков* можно прочитать в соответствующем [выводе](#filling-the-blanks)\n",
    "По остальным пунктам вся необходимая информация есть в этом выводе."
   ],
   "metadata": {
    "collapsed": false
   }
  },
  {
   "cell_type": "markdown",
   "source": [
    "## Исследовательский анализ данных"
   ],
   "metadata": {
    "collapsed": false
   }
  },
  {
   "cell_type": "markdown",
   "source": [
    "### Сколько игр выпускалось в разные годы"
   ],
   "metadata": {
    "collapsed": false
   }
  },
  {
   "cell_type": "markdown",
   "source": [
    "Посмотрим сколько игр выпускалось в разные годы."
   ],
   "metadata": {
    "collapsed": false
   }
  },
  {
   "cell_type": "code",
   "outputs": [
    {
     "data": {
      "text/plain": "year_of_release\n2008    1427\n2009    1426\n2010    1255\n2007    1197\n2011    1136\n2006    1006\n2005     939\n2002     829\n2003     775\n2004     762\n2012     652\n2015     606\n2014     581\n2013     544\n2016     502\n2001     482\n1998     379\n2000     350\n1999     338\n1997     289\n1996     263\n1995     219\n1994     121\n1993      60\n1981      46\n1992      43\n1991      41\n1982      36\n1986      21\n1989      17\n1983      17\n1990      16\n1987      16\n1988      15\n1985      14\n1984      14\n1980       9\nName: count, dtype: Int64"
     },
     "execution_count": 38,
     "metadata": {},
     "output_type": "execute_result"
    }
   ],
   "source": [
    "games_per_year = data['year_of_release'].value_counts()\n",
    "games_per_year"
   ],
   "metadata": {
    "collapsed": false,
    "ExecuteTime": {
     "end_time": "2024-02-24T21:35:54.659006Z",
     "start_time": "2024-02-24T21:35:54.653783Z"
    }
   },
   "execution_count": 38
  },
  {
   "cell_type": "markdown",
   "source": [
    "Построю график для наглядности."
   ],
   "metadata": {
    "collapsed": false
   }
  },
  {
   "cell_type": "code",
   "outputs": [
    {
     "data": {
      "text/plain": "<Figure size 1500x1000 with 1 Axes>",
      "image/png": "[encoded data removed]"
     },
     "metadata": {},
     "output_type": "display_data"
    }
   ],
   "source": [
    "# Отсортирую значения по годам\n",
    "games_per_year = games_per_year.sort_index()\n",
    "\n",
    "plt.figure(figsize=(15, 10))\n",
    "plt.barh(games_per_year.index, games_per_year.values)\n",
    "\n",
    "plt.title('Выпуск игр по годам', fontsize=20)\n",
    "plt.xlabel('Количество игр', fontsize=15)\n",
    "plt.ylabel('Год релиза', fontsize=15)\n",
    "plt.grid(axis='x')\n",
    "plt.show()"
   ],
   "metadata": {
    "collapsed": false,
    "ExecuteTime": {
     "end_time": "2024-02-24T21:35:54.893781Z",
     "start_time": "2024-02-24T21:35:54.672786Z"
    }
   },
   "execution_count": 39
  },
  {
   "cell_type": "markdown",
   "source": [
    "Видно, что большинство игр приходится от 1995 года. Пик приходится на 2008-2009 года, после чего количество игр начало падать.\n",
    "\n",
    "Посмотрим какой процент игр был продан до 1995 года."
   ],
   "metadata": {
    "collapsed": false
   }
  },
  {
   "cell_type": "code",
   "outputs": [
    {
     "name": "stdout",
     "output_type": "stream",
     "text": [
      "Процент игр, которые были выпущены до 1995 года: 2.96%\n"
     ]
    }
   ],
   "source": [
    "proportion = games_per_year.loc[games_per_year.index < 1995].sum() / games_per_year.sum()\n",
    "print(f'Процент игр, которые были выпущены до 1995 года: {proportion:.2%}')"
   ],
   "metadata": {
    "collapsed": false,
    "ExecuteTime": {
     "end_time": "2024-02-24T21:35:54.897833Z",
     "start_time": "2024-02-24T21:35:54.894698Z"
    }
   },
   "execution_count": 40
  },
  {
   "cell_type": "markdown",
   "source": [
    "Данные до 1995 года не так важны, так как их доля составляет всего 2.96%."
   ],
   "metadata": {
    "collapsed": false
   }
  },
  {
   "cell_type": "markdown",
   "source": [
    "### Как менялись продажи по платформам"
   ],
   "metadata": {
    "collapsed": false
   }
  },
  {
   "cell_type": "markdown",
   "source": [
    "Построю график, чтобы посмотреть как менялись продажи по платформам."
   ],
   "metadata": {
    "collapsed": false
   }
  },
  {
   "cell_type": "code",
   "outputs": [
    {
     "data": {
      "text/plain": "<Figure size 1500x1000 with 1 Axes>",
      "image/png": "[encoded data removed]"
     },
     "metadata": {},
     "output_type": "display_data"
    }
   ],
   "source": [
    "# Select top platforms by total sales\n",
    "top_platforms = data.groupby('platform')['total_sales'].sum().nlargest(10).index\n",
    "platforms_sales = data.pivot_table(index='year_of_release', columns='platform', values='total_sales', aggfunc='sum')\n",
    "\n",
    "# Filter the data to include only top platforms\n",
    "filtered_sales = platforms_sales[top_platforms]\n",
    "\n",
    "# Plot line graph\n",
    "plt.figure(figsize=(15, 10))\n",
    "for platform in top_platforms:\n",
    "    plt.plot(filtered_sales.index, filtered_sales[platform], label=platform)\n",
    "\n",
    "plt.title('Продажи игр по платформам', fontsize=20)\n",
    "plt.xlabel('Год релиза', fontsize=15)\n",
    "plt.ylabel('Продажи', fontsize=15)\n",
    "plt.grid()\n",
    "plt.legend()\n",
    "plt.show()"
   ],
   "metadata": {
    "collapsed": false,
    "ExecuteTime": {
     "end_time": "2024-02-24T21:35:55.139703Z",
     "start_time": "2024-02-24T21:35:54.898460Z"
    }
   },
   "execution_count": 41
  },
  {
   "cell_type": "markdown",
   "source": [
    "Проверим среднее время жизни платформы."
   ],
   "metadata": {
    "collapsed": false
   }
  },
  {
   "cell_type": "code",
   "outputs": [
    {
     "data": {
      "text/plain": "7.612903225806452"
     },
     "execution_count": 42,
     "metadata": {},
     "output_type": "execute_result"
    }
   ],
   "source": [
    "platforms_lifespan = data.groupby('platform')['year_of_release'].agg(['min', 'max'])\n",
    "platforms_lifespan['lifespan'] = platforms_lifespan['max'] - platforms_lifespan['min']\n",
    "platforms_lifespan['lifespan'].mean()"
   ],
   "metadata": {
    "collapsed": false,
    "ExecuteTime": {
     "end_time": "2024-02-24T21:39:25.703437Z",
     "start_time": "2024-02-24T21:39:25.693344Z"
    }
   },
   "execution_count": 42
  },
  {
   "cell_type": "markdown",
   "source": [
    "Среднее время жизни платформы примерно 7.5 лет."
   ],
   "metadata": {
    "collapsed": false
   }
  },
  {
   "cell_type": "markdown",
   "source": [
    "Описание проекта\n",
    "\n",
    "Вы работаете в интернет-магазине «Стримчик», который продаёт по всему миру компьютерные игры. Из открытых источников доступны исторические данные о продажах игр, оценки пользователей и экспертов, жанры и платформы (например, Xbox или PlayStation). Вам нужно выявить определяющие успешность игры закономерности. Это позволит сделать ставку на потенциально популярный продукт и спланировать рекламные кампании.\n",
    "Перед вами данные до 2016 года. Представим, что сейчас декабрь 2016 г., и вы планируете кампанию на 2017-й. Нужно отработать принцип работы с данными. Неважно, прогнозируете ли вы продажи на 2017 год по данным 2016-го или же 2027-й — по данным 2026 года.\n",
    "В наборе данных попадается аббревиатура ESRB (Entertainment Software Rating Board) — это ассоциация, определяющая возрастной рейтинг компьютерных игр. ESRB оценивает игровой контент и присваивает ему подходящую возрастную категорию, например, «Для взрослых», «Для детей младшего возраста» или «Для подростков».\n",
    "\n",
    "Инструкция по выполнению проекта\n",
    "\n",
    "Шаг 1. Откройте файл с данными и изучите общую информацию\n",
    "путь к файлу: /datasets/games.csv\n",
    "\n",
    "Шаг 2. Подготовьте данные.\n",
    "Замените названия столбцов (приведите к нижнему регистру);\n",
    "Преобразуйте данные в нужные типы. Опишите, в каких столбцах заменили тип данных и почему;\n",
    "Обработайте пропуски при необходимости:\n",
    "Объясните, почему заполнили пропуски определённым образом или почему не стали это делать;\n",
    "Опишите причины, которые могли привести к пропускам;\n",
    "Обратите внимание на аббревиатуру 'tbd' в столбцах с рейтингом. Отдельно разберите это значение и опишите, как его обработать;\n",
    "Посчитайте суммарные продажи во всех регионах и запишите их в отдельный столбец.\n",
    "\n",
    "Шаг 3. Проведите исследовательский анализ данных.\n",
    "Посмотрите, сколько игр выпускалось в разные годы. Важны ли данные за все периоды?\n",
    "Посмотрите, как менялись продажи по платформам. Выберите платформы с наибольшими суммарными продажами и постройте распределение по годам. За какой характерный срок появляются новые и исчезают старые платформы?\n",
    "Возьмите данные за соответствующий актуальный период. Актуальный период определите самостоятельно в результате исследования предыдущих вопросов. Основной фактор — эти данные помогут построить прогноз на 2017 год.\n",
    "Не учитывайте в работе данные за предыдущие годы.\n",
    "Какие платформы лидируют по продажам, растут или падают? Выберите несколько потенциально прибыльных платформ.\n",
    "Постройте график «ящик с усами» по глобальным продажам игр в разбивке по платформам. Опишите результат.\n",
    "Посмотрите, как влияют на продажи внутри одной популярной платформы отзывы пользователей и критиков. Постройте диаграмму рассеяния и посчитайте корреляцию между отзывами и продажами. Сформулируйте выводы.\n",
    "Соотнесите выводы с продажами игр на других платформах.\n",
    "Посмотрите на общее распределение игр по жанрам. Что можно сказать о самых прибыльных жанрах? Выделяются ли жанры с высокими и низкими продажами?\n",
    "\n",
    "Шаг 4. Составьте портрет пользователя каждого региона.\n",
    "Определите для пользователя каждого региона (NA, EU, JP):\n",
    "Самые популярные платформы (топ-5). Опишите различия в долях продаж.\n",
    "Самые популярные жанры (топ-5). Поясните разницу.\n",
    "Влияет ли рейтинг ESRB на продажи в отдельном регионе?\n",
    "\n",
    "Шаг 5. Проверьте гипотезы.\n",
    "Средние пользовательские рейтинги платформ Xbox One и PC одинаковые;\n",
    "Средние пользовательские рейтинги жанров Action (англ. «действие», экшен-игры) и Sports (англ. «спортивные соревнования») разные.\n",
    "Задайте самостоятельно пороговое значение alpha.\n",
    "Поясните:\n",
    "Как вы сформулировали нулевую и альтернативную гипотезы;\n",
    "Какой критерий применили для проверки гипотез и почему.\n",
    "\n",
    "Шаг 6. Напишите общий вывод.\n",
    "Оформление: Задание выполните в Jupyter Notebook. Программный код заполните в ячейках типа code, текстовые пояснения — в ячейках типа markdown. Примените форматирование и заголовки.\n",
    "\n",
    "Описание данных\n",
    "Name — название игры\n",
    "Platform — платформа\n",
    "Year_of_Release — год выпуска\n",
    "Genre — жанр игры\n",
    "NA_sales — продажи в Северной Америке (миллионы долларов)\n",
    "EU_sales — продажи в Европе (миллионы долларов)\n",
    "JP_sales — продажи в Японии (миллионы долларов)\n",
    "Other_sales — продажи в других странах (миллионы долларов)\n",
    "Critic_Score — оценка критиков (максимум 100)\n",
    "User_Score — оценка пользователей (максимум 10)\n",
    "Rating — рейтинг от организации ESRB (англ. Entertainment Software Rating Board). Эта ассоциация определяет рейтинг компьютерных игр и присваивает им подходящую возрастную категори, например, «Для взрослых», «Для детей младшего возраста» или «Для подростков».\n",
    "\n",
    "Данные за 2016 год могут быть неполными."
   ],
   "metadata": {
    "collapsed": false
   }
  }
 ],
 "metadata": {
  "kernelspec": {
   "display_name": "Python 3 (ipykernel)",
   "language": "python",
   "name": "python3"
  },
  "language_info": {
   "codemirror_mode": {
    "name": "ipython",
    "version": 3
   },
   "file_extension": ".py",
   "mimetype": "text/x-python",
   "name": "python",
   "nbconvert_exporter": "python",
   "pygments_lexer": "ipython3",
   "version": "3.9.5"
  },
  "toc": {
   "base_numbering": 1,
   "nav_menu": {},
   "number_sections": true,
   "sideBar": true,
   "skip_h1_title": true,
   "title_cell": "Table of Contents",
   "title_sidebar": "Contents",
   "toc_cell": false,
   "toc_position": {},
   "toc_section_display": true,
   "toc_window_display": false
  }
 },
 "nbformat": 4,
 "nbformat_minor": 2
}
